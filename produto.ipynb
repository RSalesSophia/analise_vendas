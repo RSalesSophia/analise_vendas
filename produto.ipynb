{
 "cells": [
  {
   "cell_type": "markdown",
   "metadata": {},
   "source": [
    "#### Análise de perfil de produtos com Python"
   ]
  },
  {
   "cell_type": "markdown",
   "metadata": {},
   "source": [
    "##### Bibliotecas"
   ]
  },
  {
   "cell_type": "code",
   "execution_count": 19,
   "metadata": {},
   "outputs": [],
   "source": [
    "import pandas as pd\n",
    "import datetime as dt\n",
    "import numpy as np\n",
    "import matplotlib.pyplot as plt\n",
    "from anytree import Node, RenderTree"
   ]
  },
  {
   "cell_type": "markdown",
   "metadata": {},
   "source": [
    "##### Relacionamento entre as bases *fato* e *dimensões*"
   ]
  },
  {
   "cell_type": "code",
   "execution_count": 47,
   "metadata": {},
   "outputs": [],
   "source": [
    "#Importando a tabela fato união entre Cabecalho e Detalhes\n",
    "\n",
    "fatos = pd.read_csv(\"fatos.csv\", decimal = \",\")"
   ]
  },
  {
   "cell_type": "code",
   "execution_count": 48,
   "metadata": {},
   "outputs": [],
   "source": [
    "#Importando as tabelas dimensões\n",
    "\n",
    "#Dimensão Categoria\n",
    "d_cat = pd.read_excel(\"Dimensoes_DadosModelagem.xlsx\", sheet_name=3)\n",
    "#Dimensão Produto\n",
    "d_prod = pd.read_excel(\"Dimensoes_DadosModelagem.xlsx\", sheet_name=4)\n",
    "#Dimensão Funcionários\n",
    "d_func = pd.read_excel(\"Dimensoes_DadosModelagem.xlsx\", sheet_name= 1)\n",
    "#Dimensão Escritórios\n",
    "d_esc = pd.read_excel(\"Dimensoes_DadosModelagem.xlsx\", sheet_name= 2)\n"
   ]
  },
  {
   "cell_type": "code",
   "execution_count": 49,
   "metadata": {},
   "outputs": [],
   "source": [
    "#Relacionamento: entre d_prod e d_cat\n",
    "data = pd.merge(left = d_prod, right = d_cat, on = [\"CategoriaID\"], how = \"inner\")\n",
    "\n",
    "#Relacionamento: entre data e f_cab\n",
    "data = pd.merge(left = data, right = fatos, on = [\"ProdutoID\"], how = \"inner\")\n",
    "\n",
    "#Relacionamento: entre data e d_func\n",
    "data = pd.merge(left = data, right = d_func,  on = [\"FuncionarioID\"], how = \"inner\")\n",
    "\n",
    "#Relacionamento: entre data e d_esc\n",
    "data = pd.merge(left = data, right = d_esc,  left_on = [\"Escritorio\"], right_on = [\"Escritorios\"], how = \"inner\")"
   ]
  },
  {
   "cell_type": "markdown",
   "metadata": {},
   "source": [
    "##### Descrição do período analisado"
   ]
  },
  {
   "cell_type": "markdown",
   "metadata": {},
   "source": [
    "Data inicial e final da análise:"
   ]
  },
  {
   "cell_type": "code",
   "execution_count": 50,
   "metadata": {},
   "outputs": [
    {
     "name": "stdout",
     "output_type": "stream",
     "text": [
      "Data inicial: 2014-07-30 00:00:00\n",
      "Data final: 2018-04-07 00:00:00\n"
     ]
    }
   ],
   "source": [
    "#Convertendo a coluna Data em data\n",
    "data['Data']= pd.to_datetime(data['Data'], format = \"%d/%m/%Y\")\n",
    "\n",
    "print(\"Data inicial:\", min(data['Data']))\n",
    "\n",
    "print(\"Data final:\", max(data['Data']))"
   ]
  },
  {
   "cell_type": "markdown",
   "metadata": {},
   "source": [
    "Criando variáveis para ano e meses:"
   ]
  },
  {
   "cell_type": "code",
   "execution_count": 51,
   "metadata": {},
   "outputs": [],
   "source": [
    "#Criando a variável ano\n",
    "data['Ano'] = pd.DatetimeIndex(data['Data']).year\n",
    "\n",
    "#Criando a variável mês\n",
    "data['Mês'] = pd.DatetimeIndex(data['Data']).month"
   ]
  },
  {
   "cell_type": "markdown",
   "metadata": {},
   "source": [
    "Descobrindo quais os meses de venda para cada ano:"
   ]
  },
  {
   "cell_type": "code",
   "execution_count": 52,
   "metadata": {},
   "outputs": [
    {
     "data": {
      "text/plain": [
       "Ano\n",
       "2014                      [7, 8, 9, 10, 11, 12]\n",
       "2015    [1, 2, 3, 4, 5, 6, 7, 8, 9, 10, 11, 12]\n",
       "2016    [1, 2, 3, 4, 5, 6, 7, 8, 9, 10, 11, 12]\n",
       "2017    [1, 2, 3, 4, 5, 6, 7, 8, 9, 10, 11, 12]\n",
       "2018                               [1, 2, 3, 4]\n",
       "Name: Mês, dtype: object"
      ]
     },
     "execution_count": 52,
     "metadata": {},
     "output_type": "execute_result"
    }
   ],
   "source": [
    "data.groupby(\"Ano\")['Mês'].apply(lambda x: list(np.unique(x)))"
   ]
  },
  {
   "cell_type": "markdown",
   "metadata": {},
   "source": [
    "É importante destacar aqui que os dados de 2014 e 2018 estão incompletos. Assim possivelmente seus resultados financeiros relativos a produtos serão menores. "
   ]
  },
  {
   "cell_type": "markdown",
   "metadata": {},
   "source": [
    "##### Hierarquia para identificar departamentos e produtos"
   ]
  },
  {
   "cell_type": "code",
   "execution_count": 358,
   "metadata": {},
   "outputs": [],
   "source": [
    "#Selecioando as coluanas referentes a departamento e produto\n",
    "df = data.copy()\n",
    "df = df[['Departamento', 'Produto']]\n",
    "\n",
    "#Transformando dataframe em lista\n",
    "df = df.values.tolist()\n"
   ]
  },
  {
   "cell_type": "code",
   "execution_count": 359,
   "metadata": {},
   "outputs": [
    {
     "name": "stdout",
     "output_type": "stream",
     "text": [
      "Clothing\n",
      "├── Lenin Jeansshorts\n",
      "├── Mr X Trousers\n",
      "├── O-Man Underwear\n",
      "├── Desperado Jeans\n",
      "├── Samba Socker  Socks\n",
      "├── US-Master Jeans\n",
      "├── Atles Lussekofta\n",
      "├── Bow tie\n",
      "├── Chantell Shirt\n",
      "├── Oyaki Kimono\n",
      "├── Shagall Socks\n",
      "├── Tuxedo\n",
      "├── Sumi Underwear\n",
      "├── Le Baby Dress\n",
      "├── Terence Top\n",
      "├── Okkaba Skin Jackets\n",
      "├── Jumpin Jack Flash Dress\n",
      "├── Serve-Shirt\n",
      "├── Stretch oui-pants\n",
      "├── Skirt\n",
      "├── Conserve Shoes\n",
      "├── RDL Suit\n",
      "├── Nikee Running Shoes\n",
      "├── Sapporoo Gloves\n",
      "├── Aino Shoes\n",
      "├── Mehmet-Tröja\n",
      "├── Duck Trousers\n",
      "├── Duck Shirt\n",
      "├── Rodbye Troje\n",
      "├── Mehmet-Napp\n",
      "├── Rossi Bermuda Shorts\n",
      "├── Rossi Bikkini\n",
      "├── Baywatch Bikkini\n",
      "├── LA. Shorts\n",
      "├── Summer Shorts\n",
      "├── Rossi Shorts\n",
      "├── Wimbledon T-Shirt\n",
      "├── Squash Shorts\n",
      "├── Tennis Suit\n",
      "├── Basket Shoes\n",
      "├── Basket Vest\n",
      "├── Bike Helmet\n",
      "├── Car Boots\n",
      "├── Finnish Sport Blades\n",
      "├── Finnish Swimsuit\n",
      "├── Patamonia Fleece Jacket\n",
      "├── Feiss Fleece Trousers\n",
      "├── Rasta WCT\n",
      "├── Game Over T-Shirt\n",
      "├── Adihash Running Shoe\n",
      "├── Sheat Shoes\n",
      "├── Cap\n",
      "├── Racing Truck  Socks\n",
      "├── Langoste Shirt\n",
      "├── X-Dress\n",
      "├── Minnki Pälsii\n",
      "├── Kool Sunglasses\n",
      "├── Deuce shirt\n",
      "├── Baby Dark Lounge Suit\n",
      "├── Mehmet-Skor\n",
      "├── Ga-Ga Dress\n",
      "├── Tiny Winy Hot Bikini\n",
      "└── Tracksuit\n",
      "Shoes\n",
      "├── Fuji Boots\n",
      "├── TieBreak Tennis shoes\n",
      "├── Danske Treshoe\n",
      "├── Lundenhagen Boots\n",
      "├── Root Boot\n",
      "├── Snake Boots\n",
      "├── Ravellis Träskor\n",
      "├── Balett Shoes\n",
      "├── High Heels Shoes\n",
      "├── Davenport\n",
      "├── DSW\n",
      "├── Small Crocodile Boots\n",
      "├── Burned Rubber Shoes\n",
      "└── WFS shoes\n"
     ]
    }
   ],
   "source": [
    "#Definindo uma função que destaca a segmentação entre departamento e produtos\n",
    "\n",
    "def add_nodes(nodes, parent, child):\n",
    "    if parent not in nodes:\n",
    "        nodes[parent] = Node(parent)  \n",
    "    if child not in nodes:\n",
    "        nodes[child] = Node(child)\n",
    "    nodes[child].parent = nodes[parent]\n",
    "\n",
    "\n",
    "df = pd.DataFrame(columns=[\"Parent\",\"Child\"], data= df)\n",
    "nodes = {}  \n",
    "for parent, child in zip(df[\"Parent\"],df[\"Child\"]):\n",
    "    add_nodes(nodes, parent, child)\n",
    "\n",
    "roots = list(df[~df[\"Parent\"].isin(df[\"Child\"])][\"Parent\"].unique())\n",
    "for root in roots:  \n",
    "    for pre, _, node in RenderTree(nodes[root]):\n",
    "        print(\"%s%s\" % (pre, node.name))\n"
   ]
  },
  {
   "cell_type": "markdown",
   "metadata": {},
   "source": [
    "#### Produto e quantidade vendida"
   ]
  },
  {
   "cell_type": "markdown",
   "metadata": {},
   "source": [
    "##### Quantidade de produtos por departamento"
   ]
  },
  {
   "cell_type": "code",
   "execution_count": 365,
   "metadata": {},
   "outputs": [
    {
     "data": {
      "text/html": [
       "<div>\n",
       "<style scoped>\n",
       "    .dataframe tbody tr th:only-of-type {\n",
       "        vertical-align: middle;\n",
       "    }\n",
       "\n",
       "    .dataframe tbody tr th {\n",
       "        vertical-align: top;\n",
       "    }\n",
       "\n",
       "    .dataframe thead th {\n",
       "        text-align: right;\n",
       "    }\n",
       "</style>\n",
       "<table border=\"1\" class=\"dataframe\">\n",
       "  <thead>\n",
       "    <tr style=\"text-align: right;\">\n",
       "      <th></th>\n",
       "      <th>Quantidade</th>\n",
       "    </tr>\n",
       "    <tr>\n",
       "      <th>Departamento</th>\n",
       "      <th></th>\n",
       "    </tr>\n",
       "  </thead>\n",
       "  <tbody>\n",
       "    <tr>\n",
       "      <th>Clothing</th>\n",
       "      <td>63</td>\n",
       "    </tr>\n",
       "    <tr>\n",
       "      <th>Shoes</th>\n",
       "      <td>14</td>\n",
       "    </tr>\n",
       "    <tr>\n",
       "      <th>Total</th>\n",
       "      <td>77</td>\n",
       "    </tr>\n",
       "  </tbody>\n",
       "</table>\n",
       "</div>"
      ],
      "text/plain": [
       "              Quantidade\n",
       "Departamento            \n",
       "Clothing              63\n",
       "Shoes                 14\n",
       "Total                 77"
      ]
     },
     "execution_count": 365,
     "metadata": {},
     "output_type": "execute_result"
    }
   ],
   "source": [
    "produtos = data.groupby(['Departamento']).Produto.agg(Quantidade = 'nunique')\n",
    "produtos.loc['Total'] = produtos.sum()\n",
    "produtos"
   ]
  },
  {
   "cell_type": "markdown",
   "metadata": {},
   "source": [
    "O portifólio da companhia analisada contêm 77 produtos, sendo 63 correspondentes ao departamento **Clothing** e 14 ao departamento **Shoes**."
   ]
  },
  {
   "cell_type": "markdown",
   "metadata": {},
   "source": [
    "##### Quantidade de produtos vendidos por ano e departmento"
   ]
  },
  {
   "cell_type": "code",
   "execution_count": 364,
   "metadata": {},
   "outputs": [
    {
     "data": {
      "text/html": [
       "<div>\n",
       "<style scoped>\n",
       "    .dataframe tbody tr th:only-of-type {\n",
       "        vertical-align: middle;\n",
       "    }\n",
       "\n",
       "    .dataframe tbody tr th {\n",
       "        vertical-align: top;\n",
       "    }\n",
       "\n",
       "    .dataframe thead th {\n",
       "        text-align: right;\n",
       "    }\n",
       "</style>\n",
       "<table border=\"1\" class=\"dataframe\">\n",
       "  <thead>\n",
       "    <tr style=\"text-align: right;\">\n",
       "      <th></th>\n",
       "      <th>Quantidade</th>\n",
       "    </tr>\n",
       "  </thead>\n",
       "  <tbody>\n",
       "    <tr>\n",
       "      <th>(2014, Clothing)</th>\n",
       "      <td>32</td>\n",
       "    </tr>\n",
       "    <tr>\n",
       "      <th>(2014, Shoes)</th>\n",
       "      <td>4</td>\n",
       "    </tr>\n",
       "    <tr>\n",
       "      <th>(2015, Clothing)</th>\n",
       "      <td>294</td>\n",
       "    </tr>\n",
       "    <tr>\n",
       "      <th>(2015, Shoes)</th>\n",
       "      <td>52</td>\n",
       "    </tr>\n",
       "    <tr>\n",
       "      <th>(2016, Clothing)</th>\n",
       "      <td>503</td>\n",
       "    </tr>\n",
       "    <tr>\n",
       "      <th>(2016, Shoes)</th>\n",
       "      <td>84</td>\n",
       "    </tr>\n",
       "    <tr>\n",
       "      <th>(2017, Clothing)</th>\n",
       "      <td>852</td>\n",
       "    </tr>\n",
       "    <tr>\n",
       "      <th>(2017, Shoes)</th>\n",
       "      <td>189</td>\n",
       "    </tr>\n",
       "    <tr>\n",
       "      <th>(2018, Clothing)</th>\n",
       "      <td>135</td>\n",
       "    </tr>\n",
       "    <tr>\n",
       "      <th>(2018, Shoes)</th>\n",
       "      <td>27</td>\n",
       "    </tr>\n",
       "    <tr>\n",
       "      <th>Total</th>\n",
       "      <td>2172</td>\n",
       "    </tr>\n",
       "  </tbody>\n",
       "</table>\n",
       "</div>"
      ],
      "text/plain": [
       "                  Quantidade\n",
       "(2014, Clothing)          32\n",
       "(2014, Shoes)              4\n",
       "(2015, Clothing)         294\n",
       "(2015, Shoes)             52\n",
       "(2016, Clothing)         503\n",
       "(2016, Shoes)             84\n",
       "(2017, Clothing)         852\n",
       "(2017, Shoes)            189\n",
       "(2018, Clothing)         135\n",
       "(2018, Shoes)             27\n",
       "Total                   2172"
      ]
     },
     "execution_count": 364,
     "metadata": {},
     "output_type": "execute_result"
    }
   ],
   "source": [
    "produtos = data.groupby(['Ano','Departamento']).Produto.agg(Quantidade = 'count')\n",
    "produtos.loc['Total'] = produtos.sum()\n",
    "produtos"
   ]
  },
  {
   "cell_type": "markdown",
   "metadata": {},
   "source": [
    "Diante aos resultados observa-se que o departamento **Clothing** além de ter o maior número de produtos dentro da empresa também é responsável pela maior quantidade vendida de produtos em todos os anos. Destaque-se o ano de 2017 que obteve o melhor resultado quantidade vendidas para os dois departamentos.  "
   ]
  },
  {
   "cell_type": "markdown",
   "metadata": {},
   "source": [
    "##### Os 5 produtos mais vendidos por ano e suas respectivas quantidades"
   ]
  },
  {
   "cell_type": "code",
   "execution_count": 366,
   "metadata": {},
   "outputs": [
    {
     "data": {
      "text/html": [
       "<div>\n",
       "<style scoped>\n",
       "    .dataframe tbody tr th:only-of-type {\n",
       "        vertical-align: middle;\n",
       "    }\n",
       "\n",
       "    .dataframe tbody tr th {\n",
       "        vertical-align: top;\n",
       "    }\n",
       "\n",
       "    .dataframe thead th {\n",
       "        text-align: right;\n",
       "    }\n",
       "</style>\n",
       "<table border=\"1\" class=\"dataframe\">\n",
       "  <thead>\n",
       "    <tr style=\"text-align: right;\">\n",
       "      <th></th>\n",
       "      <th></th>\n",
       "      <th>Qtde</th>\n",
       "    </tr>\n",
       "    <tr>\n",
       "      <th>Ano</th>\n",
       "      <th>Produto</th>\n",
       "      <th></th>\n",
       "    </tr>\n",
       "  </thead>\n",
       "  <tbody>\n",
       "    <tr>\n",
       "      <th rowspan=\"5\" valign=\"top\">2018</th>\n",
       "      <th>Feiss Fleece Trousers</th>\n",
       "      <td>8</td>\n",
       "    </tr>\n",
       "    <tr>\n",
       "      <th>Rasta WCT</th>\n",
       "      <td>6</td>\n",
       "    </tr>\n",
       "    <tr>\n",
       "      <th>Balett Shoes</th>\n",
       "      <td>5</td>\n",
       "    </tr>\n",
       "    <tr>\n",
       "      <th>Bow tie</th>\n",
       "      <td>5</td>\n",
       "    </tr>\n",
       "    <tr>\n",
       "      <th>Minnki Pälsii</th>\n",
       "      <td>5</td>\n",
       "    </tr>\n",
       "    <tr>\n",
       "      <th rowspan=\"5\" valign=\"top\">2017</th>\n",
       "      <th>Samba Socker  Socks</th>\n",
       "      <td>31</td>\n",
       "    </tr>\n",
       "    <tr>\n",
       "      <th>Game Over T-Shirt</th>\n",
       "      <td>29</td>\n",
       "    </tr>\n",
       "    <tr>\n",
       "      <th>Duck Shirt</th>\n",
       "      <td>27</td>\n",
       "    </tr>\n",
       "    <tr>\n",
       "      <th>Aino Shoes</th>\n",
       "      <td>25</td>\n",
       "    </tr>\n",
       "    <tr>\n",
       "      <th>High Heels Shoes</th>\n",
       "      <td>25</td>\n",
       "    </tr>\n",
       "    <tr>\n",
       "      <th rowspan=\"5\" valign=\"top\">2016</th>\n",
       "      <th>Rossi Bermuda Shorts</th>\n",
       "      <td>21</td>\n",
       "    </tr>\n",
       "    <tr>\n",
       "      <th>Bow tie</th>\n",
       "      <td>17</td>\n",
       "    </tr>\n",
       "    <tr>\n",
       "      <th>Rasta WCT</th>\n",
       "      <td>16</td>\n",
       "    </tr>\n",
       "    <tr>\n",
       "      <th>Sheat Shoes</th>\n",
       "      <td>16</td>\n",
       "    </tr>\n",
       "    <tr>\n",
       "      <th>Wimbledon T-Shirt</th>\n",
       "      <td>16</td>\n",
       "    </tr>\n",
       "    <tr>\n",
       "      <th rowspan=\"5\" valign=\"top\">2015</th>\n",
       "      <th>Car Boots</th>\n",
       "      <td>11</td>\n",
       "    </tr>\n",
       "    <tr>\n",
       "      <th>Desperado Jeans</th>\n",
       "      <td>10</td>\n",
       "    </tr>\n",
       "    <tr>\n",
       "      <th>Rossi Bermuda Shorts</th>\n",
       "      <td>10</td>\n",
       "    </tr>\n",
       "    <tr>\n",
       "      <th>Bike Helmet</th>\n",
       "      <td>9</td>\n",
       "    </tr>\n",
       "    <tr>\n",
       "      <th>Duck Trousers</th>\n",
       "      <td>9</td>\n",
       "    </tr>\n",
       "    <tr>\n",
       "      <th rowspan=\"5\" valign=\"top\">2014</th>\n",
       "      <th>Bike Helmet</th>\n",
       "      <td>2</td>\n",
       "    </tr>\n",
       "    <tr>\n",
       "      <th>Mehmet-Tröja</th>\n",
       "      <td>2</td>\n",
       "    </tr>\n",
       "    <tr>\n",
       "      <th>Okkaba Skin Jackets</th>\n",
       "      <td>2</td>\n",
       "    </tr>\n",
       "    <tr>\n",
       "      <th>Rasta WCT</th>\n",
       "      <td>2</td>\n",
       "    </tr>\n",
       "    <tr>\n",
       "      <th>Rossi Shorts</th>\n",
       "      <td>2</td>\n",
       "    </tr>\n",
       "  </tbody>\n",
       "</table>\n",
       "</div>"
      ],
      "text/plain": [
       "                            Qtde\n",
       "Ano  Produto                    \n",
       "2018 Feiss Fleece Trousers     8\n",
       "     Rasta WCT                 6\n",
       "     Balett Shoes              5\n",
       "     Bow tie                   5\n",
       "     Minnki Pälsii             5\n",
       "2017 Samba Socker  Socks      31\n",
       "     Game Over T-Shirt        29\n",
       "     Duck Shirt               27\n",
       "     Aino Shoes               25\n",
       "     High Heels Shoes         25\n",
       "2016 Rossi Bermuda Shorts     21\n",
       "     Bow tie                  17\n",
       "     Rasta WCT                16\n",
       "     Sheat Shoes              16\n",
       "     Wimbledon T-Shirt        16\n",
       "2015 Car Boots                11\n",
       "     Desperado Jeans          10\n",
       "     Rossi Bermuda Shorts     10\n",
       "     Bike Helmet               9\n",
       "     Duck Trousers             9\n",
       "2014 Bike Helmet               2\n",
       "     Mehmet-Tröja              2\n",
       "     Okkaba Skin Jackets       2\n",
       "     Rasta WCT                 2\n",
       "     Rossi Shorts              2"
      ]
     },
     "execution_count": 366,
     "metadata": {},
     "output_type": "execute_result"
    }
   ],
   "source": [
    "data.groupby(['Ano', 'Produto']).Produto.agg(Qtde = 'count').sort_values(['Ano','Qtde'],  ascending=False).groupby(level=0).head(5)"
   ]
  },
  {
   "cell_type": "markdown",
   "metadata": {},
   "source": [
    "##### Os 5 produtos mais vendidos no departamento **Clothing** durante todo o periodo analisado"
   ]
  },
  {
   "cell_type": "code",
   "execution_count": 367,
   "metadata": {},
   "outputs": [
    {
     "data": {
      "text/html": [
       "<div>\n",
       "<style scoped>\n",
       "    .dataframe tbody tr th:only-of-type {\n",
       "        vertical-align: middle;\n",
       "    }\n",
       "\n",
       "    .dataframe tbody tr th {\n",
       "        vertical-align: top;\n",
       "    }\n",
       "\n",
       "    .dataframe thead th {\n",
       "        text-align: right;\n",
       "    }\n",
       "</style>\n",
       "<table border=\"1\" class=\"dataframe\">\n",
       "  <thead>\n",
       "    <tr style=\"text-align: right;\">\n",
       "      <th></th>\n",
       "      <th>Qtde</th>\n",
       "    </tr>\n",
       "    <tr>\n",
       "      <th>Produto</th>\n",
       "      <th></th>\n",
       "    </tr>\n",
       "  </thead>\n",
       "  <tbody>\n",
       "    <tr>\n",
       "      <th>Rasta WCT</th>\n",
       "      <td>54</td>\n",
       "    </tr>\n",
       "    <tr>\n",
       "      <th>Samba Socker  Socks</th>\n",
       "      <td>52</td>\n",
       "    </tr>\n",
       "    <tr>\n",
       "      <th>Rossi Bermuda Shorts</th>\n",
       "      <td>51</td>\n",
       "    </tr>\n",
       "    <tr>\n",
       "      <th>Game Over T-Shirt</th>\n",
       "      <td>51</td>\n",
       "    </tr>\n",
       "    <tr>\n",
       "      <th>Sheat Shoes</th>\n",
       "      <td>49</td>\n",
       "    </tr>\n",
       "  </tbody>\n",
       "</table>\n",
       "</div>"
      ],
      "text/plain": [
       "                      Qtde\n",
       "Produto                   \n",
       "Rasta WCT               54\n",
       "Samba Socker  Socks     52\n",
       "Rossi Bermuda Shorts    51\n",
       "Game Over T-Shirt       51\n",
       "Sheat Shoes             49"
      ]
     },
     "execution_count": 367,
     "metadata": {},
     "output_type": "execute_result"
    }
   ],
   "source": [
    "data.query('Departamento == \"Clothing\"').groupby('Produto').Produto.agg(Qtde = 'count').sort_values('Qtde',  ascending=False).head()"
   ]
  },
  {
   "cell_type": "markdown",
   "metadata": {},
   "source": [
    "##### Os 5 produtos que mais vendem no departamento **Shoes** durante todo o periodo analisado"
   ]
  },
  {
   "cell_type": "code",
   "execution_count": 368,
   "metadata": {},
   "outputs": [
    {
     "data": {
      "text/html": [
       "<div>\n",
       "<style scoped>\n",
       "    .dataframe tbody tr th:only-of-type {\n",
       "        vertical-align: middle;\n",
       "    }\n",
       "\n",
       "    .dataframe tbody tr th {\n",
       "        vertical-align: top;\n",
       "    }\n",
       "\n",
       "    .dataframe thead th {\n",
       "        text-align: right;\n",
       "    }\n",
       "</style>\n",
       "<table border=\"1\" class=\"dataframe\">\n",
       "  <thead>\n",
       "    <tr style=\"text-align: right;\">\n",
       "      <th></th>\n",
       "      <th>Qtde</th>\n",
       "    </tr>\n",
       "    <tr>\n",
       "      <th>Produto</th>\n",
       "      <th></th>\n",
       "    </tr>\n",
       "  </thead>\n",
       "  <tbody>\n",
       "    <tr>\n",
       "      <th>High Heels Shoes</th>\n",
       "      <td>50</td>\n",
       "    </tr>\n",
       "    <tr>\n",
       "      <th>Snake Boots</th>\n",
       "      <td>40</td>\n",
       "    </tr>\n",
       "    <tr>\n",
       "      <th>TieBreak Tennis shoes</th>\n",
       "      <td>37</td>\n",
       "    </tr>\n",
       "    <tr>\n",
       "      <th>Davenport</th>\n",
       "      <td>32</td>\n",
       "    </tr>\n",
       "    <tr>\n",
       "      <th>Balett Shoes</th>\n",
       "      <td>31</td>\n",
       "    </tr>\n",
       "  </tbody>\n",
       "</table>\n",
       "</div>"
      ],
      "text/plain": [
       "                       Qtde\n",
       "Produto                    \n",
       "High Heels Shoes         50\n",
       "Snake Boots              40\n",
       "TieBreak Tennis shoes    37\n",
       "Davenport                32\n",
       "Balett Shoes             31"
      ]
     },
     "execution_count": 368,
     "metadata": {},
     "output_type": "execute_result"
    }
   ],
   "source": [
    "data.query('Departamento == \"Shoes\"').groupby('Produto').Produto.agg(Qtde = 'count').sort_values('Qtde', ascending=False).head()"
   ]
  },
  {
   "cell_type": "markdown",
   "metadata": {},
   "source": [
    "##### O produto que mais vendeu em cada ano no departamento **Shoes**"
   ]
  },
  {
   "cell_type": "code",
   "execution_count": 273,
   "metadata": {},
   "outputs": [
    {
     "data": {
      "text/html": [
       "<div>\n",
       "<style scoped>\n",
       "    .dataframe tbody tr th:only-of-type {\n",
       "        vertical-align: middle;\n",
       "    }\n",
       "\n",
       "    .dataframe tbody tr th {\n",
       "        vertical-align: top;\n",
       "    }\n",
       "\n",
       "    .dataframe thead th {\n",
       "        text-align: right;\n",
       "    }\n",
       "</style>\n",
       "<table border=\"1\" class=\"dataframe\">\n",
       "  <thead>\n",
       "    <tr style=\"text-align: right;\">\n",
       "      <th></th>\n",
       "      <th></th>\n",
       "      <th>Qtde</th>\n",
       "    </tr>\n",
       "    <tr>\n",
       "      <th>Ano</th>\n",
       "      <th>Produto</th>\n",
       "      <th></th>\n",
       "    </tr>\n",
       "  </thead>\n",
       "  <tbody>\n",
       "    <tr>\n",
       "      <th>2018</th>\n",
       "      <th>Balett Shoes</th>\n",
       "      <td>5</td>\n",
       "    </tr>\n",
       "    <tr>\n",
       "      <th>2017</th>\n",
       "      <th>High Heels Shoes</th>\n",
       "      <td>25</td>\n",
       "    </tr>\n",
       "    <tr>\n",
       "      <th>2016</th>\n",
       "      <th>High Heels Shoes</th>\n",
       "      <td>15</td>\n",
       "    </tr>\n",
       "    <tr>\n",
       "      <th>2015</th>\n",
       "      <th>High Heels Shoes</th>\n",
       "      <td>8</td>\n",
       "    </tr>\n",
       "    <tr>\n",
       "      <th>2014</th>\n",
       "      <th>DSW</th>\n",
       "      <td>1</td>\n",
       "    </tr>\n",
       "  </tbody>\n",
       "</table>\n",
       "</div>"
      ],
      "text/plain": [
       "                       Qtde\n",
       "Ano  Produto               \n",
       "2018 Balett Shoes         5\n",
       "2017 High Heels Shoes    25\n",
       "2016 High Heels Shoes    15\n",
       "2015 High Heels Shoes     8\n",
       "2014 DSW                  1"
      ]
     },
     "execution_count": 273,
     "metadata": {},
     "output_type": "execute_result"
    }
   ],
   "source": [
    "data.query('Departamento == \"Shoes\"').groupby(['Ano', 'Produto']).Produto.agg(Qtde = 'count').sort_values(['Ano','Qtde'], ascending=False).groupby(level=0).head(1)"
   ]
  },
  {
   "cell_type": "markdown",
   "metadata": {},
   "source": [
    "No departamento **Shoes** o produto destaque corresponde ao **High Heels Shoes** cujo qual foi o recorde de venda de 2017 a 2015. "
   ]
  },
  {
   "cell_type": "markdown",
   "metadata": {},
   "source": [
    "##### O produto que mais vendeu em cada ano no departamento **Clothing**"
   ]
  },
  {
   "cell_type": "code",
   "execution_count": 282,
   "metadata": {},
   "outputs": [
    {
     "data": {
      "text/html": [
       "<div>\n",
       "<style scoped>\n",
       "    .dataframe tbody tr th:only-of-type {\n",
       "        vertical-align: middle;\n",
       "    }\n",
       "\n",
       "    .dataframe tbody tr th {\n",
       "        vertical-align: top;\n",
       "    }\n",
       "\n",
       "    .dataframe thead th {\n",
       "        text-align: right;\n",
       "    }\n",
       "</style>\n",
       "<table border=\"1\" class=\"dataframe\">\n",
       "  <thead>\n",
       "    <tr style=\"text-align: right;\">\n",
       "      <th></th>\n",
       "      <th></th>\n",
       "      <th>Qtde</th>\n",
       "    </tr>\n",
       "    <tr>\n",
       "      <th>Ano</th>\n",
       "      <th>Produto</th>\n",
       "      <th></th>\n",
       "    </tr>\n",
       "  </thead>\n",
       "  <tbody>\n",
       "    <tr>\n",
       "      <th>2018</th>\n",
       "      <th>Feiss Fleece Trousers</th>\n",
       "      <td>8</td>\n",
       "    </tr>\n",
       "    <tr>\n",
       "      <th>2017</th>\n",
       "      <th>Samba Socker  Socks</th>\n",
       "      <td>31</td>\n",
       "    </tr>\n",
       "    <tr>\n",
       "      <th>2016</th>\n",
       "      <th>Rossi Bermuda Shorts</th>\n",
       "      <td>21</td>\n",
       "    </tr>\n",
       "    <tr>\n",
       "      <th>2015</th>\n",
       "      <th>Car Boots</th>\n",
       "      <td>11</td>\n",
       "    </tr>\n",
       "    <tr>\n",
       "      <th>2014</th>\n",
       "      <th>Bike Helmet</th>\n",
       "      <td>2</td>\n",
       "    </tr>\n",
       "  </tbody>\n",
       "</table>\n",
       "</div>"
      ],
      "text/plain": [
       "                            Qtde\n",
       "Ano  Produto                    \n",
       "2018 Feiss Fleece Trousers     8\n",
       "2017 Samba Socker  Socks      31\n",
       "2016 Rossi Bermuda Shorts     21\n",
       "2015 Car Boots                11\n",
       "2014 Bike Helmet               2"
      ]
     },
     "execution_count": 282,
     "metadata": {},
     "output_type": "execute_result"
    }
   ],
   "source": [
    "data.query('Departamento == \"Clothing\"').groupby(['Ano', 'Produto']).Produto.agg(Qtde = 'count').sort_values(['Ano','Qtde'], ascending=False).groupby(level=0).head(1)"
   ]
  },
  {
   "cell_type": "markdown",
   "metadata": {},
   "source": [
    "Não foi possível um produto destaque para o departmento **Clothing** tendo em vista que em todos os anos um produto diferente prevaleceu em 1º lugar de vendas."
   ]
  },
  {
   "cell_type": "markdown",
   "metadata": {},
   "source": [
    "##### Quantidade de produtos vendidos por escritório em cada ano "
   ]
  },
  {
   "cell_type": "code",
   "execution_count": 369,
   "metadata": {},
   "outputs": [
    {
     "data": {
      "text/html": [
       "<div>\n",
       "<style scoped>\n",
       "    .dataframe tbody tr th:only-of-type {\n",
       "        vertical-align: middle;\n",
       "    }\n",
       "\n",
       "    .dataframe tbody tr th {\n",
       "        vertical-align: top;\n",
       "    }\n",
       "\n",
       "    .dataframe thead th {\n",
       "        text-align: right;\n",
       "    }\n",
       "</style>\n",
       "<table border=\"1\" class=\"dataframe\">\n",
       "  <thead>\n",
       "    <tr style=\"text-align: right;\">\n",
       "      <th></th>\n",
       "      <th></th>\n",
       "      <th>Qtde</th>\n",
       "    </tr>\n",
       "    <tr>\n",
       "      <th>Ano</th>\n",
       "      <th>EscritorioLocalizacao</th>\n",
       "      <th></th>\n",
       "    </tr>\n",
       "  </thead>\n",
       "  <tbody>\n",
       "    <tr>\n",
       "      <th rowspan=\"5\" valign=\"top\">2018</th>\n",
       "      <th>Stockholm</th>\n",
       "      <td>74</td>\n",
       "    </tr>\n",
       "    <tr>\n",
       "      <th>Lund</th>\n",
       "      <td>32</td>\n",
       "    </tr>\n",
       "    <tr>\n",
       "      <th>Paris</th>\n",
       "      <td>31</td>\n",
       "    </tr>\n",
       "    <tr>\n",
       "      <th>Seattle</th>\n",
       "      <td>18</td>\n",
       "    </tr>\n",
       "    <tr>\n",
       "      <th>Nice</th>\n",
       "      <td>7</td>\n",
       "    </tr>\n",
       "    <tr>\n",
       "      <th rowspan=\"5\" valign=\"top\">2017</th>\n",
       "      <th>Stockholm</th>\n",
       "      <td>401</td>\n",
       "    </tr>\n",
       "    <tr>\n",
       "      <th>Lund</th>\n",
       "      <td>276</td>\n",
       "    </tr>\n",
       "    <tr>\n",
       "      <th>Seattle</th>\n",
       "      <td>177</td>\n",
       "    </tr>\n",
       "    <tr>\n",
       "      <th>Paris</th>\n",
       "      <td>128</td>\n",
       "    </tr>\n",
       "    <tr>\n",
       "      <th>Nice</th>\n",
       "      <td>59</td>\n",
       "    </tr>\n",
       "    <tr>\n",
       "      <th rowspan=\"5\" valign=\"top\">2016</th>\n",
       "      <th>Stockholm</th>\n",
       "      <td>216</td>\n",
       "    </tr>\n",
       "    <tr>\n",
       "      <th>Lund</th>\n",
       "      <td>147</td>\n",
       "    </tr>\n",
       "    <tr>\n",
       "      <th>Seattle</th>\n",
       "      <td>104</td>\n",
       "    </tr>\n",
       "    <tr>\n",
       "      <th>Paris</th>\n",
       "      <td>74</td>\n",
       "    </tr>\n",
       "    <tr>\n",
       "      <th>Nice</th>\n",
       "      <td>46</td>\n",
       "    </tr>\n",
       "    <tr>\n",
       "      <th rowspan=\"5\" valign=\"top\">2015</th>\n",
       "      <th>Stockholm</th>\n",
       "      <td>167</td>\n",
       "    </tr>\n",
       "    <tr>\n",
       "      <th>Seattle</th>\n",
       "      <td>74</td>\n",
       "    </tr>\n",
       "    <tr>\n",
       "      <th>Lund</th>\n",
       "      <td>55</td>\n",
       "    </tr>\n",
       "    <tr>\n",
       "      <th>Nice</th>\n",
       "      <td>28</td>\n",
       "    </tr>\n",
       "    <tr>\n",
       "      <th>Paris</th>\n",
       "      <td>22</td>\n",
       "    </tr>\n",
       "    <tr>\n",
       "      <th rowspan=\"3\" valign=\"top\">2014</th>\n",
       "      <th>Stockholm</th>\n",
       "      <td>25</td>\n",
       "    </tr>\n",
       "    <tr>\n",
       "      <th>Lund</th>\n",
       "      <td>9</td>\n",
       "    </tr>\n",
       "    <tr>\n",
       "      <th>Nice</th>\n",
       "      <td>2</td>\n",
       "    </tr>\n",
       "  </tbody>\n",
       "</table>\n",
       "</div>"
      ],
      "text/plain": [
       "                            Qtde\n",
       "Ano  EscritorioLocalizacao      \n",
       "2018 Stockholm                74\n",
       "     Lund                     32\n",
       "     Paris                    31\n",
       "     Seattle                  18\n",
       "     Nice                      7\n",
       "2017 Stockholm               401\n",
       "     Lund                    276\n",
       "     Seattle                 177\n",
       "     Paris                   128\n",
       "     Nice                     59\n",
       "2016 Stockholm               216\n",
       "     Lund                    147\n",
       "     Seattle                 104\n",
       "     Paris                    74\n",
       "     Nice                     46\n",
       "2015 Stockholm               167\n",
       "     Seattle                  74\n",
       "     Lund                     55\n",
       "     Nice                     28\n",
       "     Paris                    22\n",
       "2014 Stockholm                25\n",
       "     Lund                      9\n",
       "     Nice                      2"
      ]
     },
     "execution_count": 369,
     "metadata": {},
     "output_type": "execute_result"
    }
   ],
   "source": [
    "data.groupby(['Ano', 'EscritorioLocalizacao']).Produto.agg(Qtde = 'count').sort_values(['Ano','Qtde'],  ascending=False).groupby(level=0).head(5)"
   ]
  },
  {
   "cell_type": "markdown",
   "metadata": {},
   "source": [
    "A partir desses dados podemos visualizar a expansão de dois escritórios em lugares diferentes (Seattle e Paris) de 2014 para 2015. Além disso, visualiza-se que o escritório em Stockholm é o responsável pelo maior número de vendas independentemente do ano analisado.  "
   ]
  },
  {
   "cell_type": "markdown",
   "metadata": {},
   "source": [
    "##### O produto mais vendido por escritório e a sua respectividade quantidade "
   ]
  },
  {
   "cell_type": "code",
   "execution_count": 289,
   "metadata": {},
   "outputs": [
    {
     "data": {
      "text/html": [
       "<div>\n",
       "<style scoped>\n",
       "    .dataframe tbody tr th:only-of-type {\n",
       "        vertical-align: middle;\n",
       "    }\n",
       "\n",
       "    .dataframe tbody tr th {\n",
       "        vertical-align: top;\n",
       "    }\n",
       "\n",
       "    .dataframe thead th {\n",
       "        text-align: right;\n",
       "    }\n",
       "</style>\n",
       "<table border=\"1\" class=\"dataframe\">\n",
       "  <thead>\n",
       "    <tr style=\"text-align: right;\">\n",
       "      <th></th>\n",
       "      <th></th>\n",
       "      <th></th>\n",
       "      <th>Qtde</th>\n",
       "    </tr>\n",
       "    <tr>\n",
       "      <th>Ano</th>\n",
       "      <th>EscritorioLocalizacao</th>\n",
       "      <th>Produto</th>\n",
       "      <th></th>\n",
       "    </tr>\n",
       "  </thead>\n",
       "  <tbody>\n",
       "    <tr>\n",
       "      <th rowspan=\"5\" valign=\"top\">2018</th>\n",
       "      <th>Stockholm</th>\n",
       "      <th>Aino Shoes</th>\n",
       "      <td>3</td>\n",
       "    </tr>\n",
       "    <tr>\n",
       "      <th>Seattle</th>\n",
       "      <th>Aino Shoes</th>\n",
       "      <td>1</td>\n",
       "    </tr>\n",
       "    <tr>\n",
       "      <th>Paris</th>\n",
       "      <th>Baby Dark Lounge Suit</th>\n",
       "      <td>1</td>\n",
       "    </tr>\n",
       "    <tr>\n",
       "      <th>Nice</th>\n",
       "      <th>Bow tie</th>\n",
       "      <td>1</td>\n",
       "    </tr>\n",
       "    <tr>\n",
       "      <th>Lund</th>\n",
       "      <th>Atles Lussekofta</th>\n",
       "      <td>1</td>\n",
       "    </tr>\n",
       "    <tr>\n",
       "      <th rowspan=\"5\" valign=\"top\">2017</th>\n",
       "      <th>Stockholm</th>\n",
       "      <th>Adihash Running Shoe</th>\n",
       "      <td>5</td>\n",
       "    </tr>\n",
       "    <tr>\n",
       "      <th>Seattle</th>\n",
       "      <th>Adihash Running Shoe</th>\n",
       "      <td>2</td>\n",
       "    </tr>\n",
       "    <tr>\n",
       "      <th>Paris</th>\n",
       "      <th>Adihash Running Shoe</th>\n",
       "      <td>3</td>\n",
       "    </tr>\n",
       "    <tr>\n",
       "      <th>Nice</th>\n",
       "      <th>Aino Shoes</th>\n",
       "      <td>1</td>\n",
       "    </tr>\n",
       "    <tr>\n",
       "      <th>Lund</th>\n",
       "      <th>Adihash Running Shoe</th>\n",
       "      <td>6</td>\n",
       "    </tr>\n",
       "    <tr>\n",
       "      <th rowspan=\"5\" valign=\"top\">2016</th>\n",
       "      <th>Stockholm</th>\n",
       "      <th>Adihash Running Shoe</th>\n",
       "      <td>2</td>\n",
       "    </tr>\n",
       "    <tr>\n",
       "      <th>Seattle</th>\n",
       "      <th>Aino Shoes</th>\n",
       "      <td>1</td>\n",
       "    </tr>\n",
       "    <tr>\n",
       "      <th>Paris</th>\n",
       "      <th>Adihash Running Shoe</th>\n",
       "      <td>1</td>\n",
       "    </tr>\n",
       "    <tr>\n",
       "      <th>Nice</th>\n",
       "      <th>Aino Shoes</th>\n",
       "      <td>1</td>\n",
       "    </tr>\n",
       "    <tr>\n",
       "      <th>Lund</th>\n",
       "      <th>Adihash Running Shoe</th>\n",
       "      <td>2</td>\n",
       "    </tr>\n",
       "    <tr>\n",
       "      <th rowspan=\"5\" valign=\"top\">2015</th>\n",
       "      <th>Stockholm</th>\n",
       "      <th>Adihash Running Shoe</th>\n",
       "      <td>2</td>\n",
       "    </tr>\n",
       "    <tr>\n",
       "      <th>Seattle</th>\n",
       "      <th>Adihash Running Shoe</th>\n",
       "      <td>1</td>\n",
       "    </tr>\n",
       "    <tr>\n",
       "      <th>Paris</th>\n",
       "      <th>Conserve Shoes</th>\n",
       "      <td>1</td>\n",
       "    </tr>\n",
       "    <tr>\n",
       "      <th>Nice</th>\n",
       "      <th>Balett Shoes</th>\n",
       "      <td>1</td>\n",
       "    </tr>\n",
       "    <tr>\n",
       "      <th>Lund</th>\n",
       "      <th>Aino Shoes</th>\n",
       "      <td>3</td>\n",
       "    </tr>\n",
       "    <tr>\n",
       "      <th rowspan=\"3\" valign=\"top\">2014</th>\n",
       "      <th>Stockholm</th>\n",
       "      <th>Aino Shoes</th>\n",
       "      <td>1</td>\n",
       "    </tr>\n",
       "    <tr>\n",
       "      <th>Nice</th>\n",
       "      <th>Cap</th>\n",
       "      <td>1</td>\n",
       "    </tr>\n",
       "    <tr>\n",
       "      <th>Lund</th>\n",
       "      <th>Bike Helmet</th>\n",
       "      <td>1</td>\n",
       "    </tr>\n",
       "  </tbody>\n",
       "</table>\n",
       "</div>"
      ],
      "text/plain": [
       "                                                  Qtde\n",
       "Ano  EscritorioLocalizacao Produto                    \n",
       "2018 Stockholm             Aino Shoes                3\n",
       "     Seattle               Aino Shoes                1\n",
       "     Paris                 Baby Dark Lounge Suit     1\n",
       "     Nice                  Bow tie                   1\n",
       "     Lund                  Atles Lussekofta          1\n",
       "2017 Stockholm             Adihash Running Shoe      5\n",
       "     Seattle               Adihash Running Shoe      2\n",
       "     Paris                 Adihash Running Shoe      3\n",
       "     Nice                  Aino Shoes                1\n",
       "     Lund                  Adihash Running Shoe      6\n",
       "2016 Stockholm             Adihash Running Shoe      2\n",
       "     Seattle               Aino Shoes                1\n",
       "     Paris                 Adihash Running Shoe      1\n",
       "     Nice                  Aino Shoes                1\n",
       "     Lund                  Adihash Running Shoe      2\n",
       "2015 Stockholm             Adihash Running Shoe      2\n",
       "     Seattle               Adihash Running Shoe      1\n",
       "     Paris                 Conserve Shoes            1\n",
       "     Nice                  Balett Shoes              1\n",
       "     Lund                  Aino Shoes                3\n",
       "2014 Stockholm             Aino Shoes                1\n",
       "     Nice                  Cap                       1\n",
       "     Lund                  Bike Helmet               1"
      ]
     },
     "execution_count": 289,
     "metadata": {},
     "output_type": "execute_result"
    }
   ],
   "source": [
    "data.groupby(['Ano', 'EscritorioLocalizacao', 'Produto']).Produto.agg(Qtde = 'count').sort_values(['Ano','EscritorioLocalizacao'], ascending=False).groupby(level=[0,1]).head(1)"
   ]
  },
  {
   "cell_type": "markdown",
   "metadata": {},
   "source": [
    "#### Produtos e os resultados financeiros"
   ]
  },
  {
   "cell_type": "markdown",
   "metadata": {},
   "source": [
    "##### O produto que gerou o maior faturamento em cada ano, o respectivo valor e a proporção em relação ao faturamento total"
   ]
  },
  {
   "cell_type": "code",
   "execution_count": 7,
   "metadata": {},
   "outputs": [],
   "source": [
    "#Criando a variável Faturamento\n",
    "data['Faturamento'] = data[\"Valor\"] * data[\"Quantidade\"]"
   ]
  },
  {
   "cell_type": "code",
   "execution_count": 43,
   "metadata": {},
   "outputs": [
    {
     "data": {
      "text/html": [
       "<div>\n",
       "<style scoped>\n",
       "    .dataframe tbody tr th:only-of-type {\n",
       "        vertical-align: middle;\n",
       "    }\n",
       "\n",
       "    .dataframe tbody tr th {\n",
       "        vertical-align: top;\n",
       "    }\n",
       "\n",
       "    .dataframe thead th {\n",
       "        text-align: right;\n",
       "    }\n",
       "</style>\n",
       "<table border=\"1\" class=\"dataframe\">\n",
       "  <thead>\n",
       "    <tr style=\"text-align: right;\">\n",
       "      <th></th>\n",
       "      <th></th>\n",
       "      <th>Faturamento</th>\n",
       "      <th>%</th>\n",
       "    </tr>\n",
       "    <tr>\n",
       "      <th>Ano</th>\n",
       "      <th>Produto</th>\n",
       "      <th></th>\n",
       "      <th></th>\n",
       "    </tr>\n",
       "  </thead>\n",
       "  <tbody>\n",
       "    <tr>\n",
       "      <th>2018</th>\n",
       "      <th>Minnki Pälsii</th>\n",
       "      <td>2138635.54</td>\n",
       "      <td>12.430174</td>\n",
       "    </tr>\n",
       "    <tr>\n",
       "      <th>2017</th>\n",
       "      <th>Minnki Pälsii</th>\n",
       "      <td>8355809.50</td>\n",
       "      <td>48.565622</td>\n",
       "    </tr>\n",
       "    <tr>\n",
       "      <th>2016</th>\n",
       "      <th>Minnki Pälsii</th>\n",
       "      <td>6622814.48</td>\n",
       "      <td>38.493111</td>\n",
       "    </tr>\n",
       "    <tr>\n",
       "      <th>2015</th>\n",
       "      <th>Okkaba Skin Jackets</th>\n",
       "      <td>1446044.54</td>\n",
       "      <td>66.661924</td>\n",
       "    </tr>\n",
       "    <tr>\n",
       "      <th>2014</th>\n",
       "      <th>Okkaba Skin Jackets</th>\n",
       "      <td>73065.68</td>\n",
       "      <td>3.368291</td>\n",
       "    </tr>\n",
       "  </tbody>\n",
       "</table>\n",
       "</div>"
      ],
      "text/plain": [
       "                          Faturamento          %\n",
       "Ano  Produto                                    \n",
       "2018 Minnki Pälsii         2138635.54  12.430174\n",
       "2017 Minnki Pälsii         8355809.50  48.565622\n",
       "2016 Minnki Pälsii         6622814.48  38.493111\n",
       "2015 Okkaba Skin Jackets   1446044.54  66.661924\n",
       "2014 Okkaba Skin Jackets     73065.68   3.368291"
      ]
     },
     "execution_count": 43,
     "metadata": {},
     "output_type": "execute_result"
    }
   ],
   "source": [
    "df_maiores = data.groupby(['Ano','Produto']).Faturamento.agg(Faturamento = 'sum')\n",
    "df_maiores ['%'] = 100 * df_maiores['Faturamento'] / df_maiores.groupby('Produto')['Faturamento'].transform('sum')\n",
    "df_maiores.sort_values(['Ano', 'Faturamento'],ascending=False).groupby('Ano').head(1)"
   ]
  },
  {
   "cell_type": "markdown",
   "metadata": {},
   "source": [
    "Observamos aqui que apesar do produto **Minnki Pälsii** não aparecer sempre como o produto com a maior quantidade vendida, tem-se o resultado que o mesmo foi o responsável pelo maior faturamento entre 2016 a 2017. Outro destaque é em relação ao produto **Okkaba Skin Jackets** que especialmente 2015 representou 66,66% do faturamento total. "
   ]
  },
  {
   "cell_type": "markdown",
   "metadata": {},
   "source": [
    "##### Conhecendo a margem bruta por produto em cada ano e o seu respectivo valor "
   ]
  },
  {
   "cell_type": "code",
   "execution_count": 41,
   "metadata": {},
   "outputs": [],
   "source": [
    "#Variável lucro bruto\n",
    "data[\"LucroBruto\"] = data[\"Valor\"] - data[\"Custo\"]\n",
    "\n",
    "#Variável margem de lucro bruto\n",
    "data['Margem Bruta'] = (data[\"LucroBruto\"]/data[\"Valor\"])*100"
   ]
  },
  {
   "cell_type": "markdown",
   "metadata": {},
   "source": [
    "##### Descrição da margem bruta dos produtos"
   ]
  },
  {
   "cell_type": "code",
   "execution_count": 42,
   "metadata": {},
   "outputs": [
    {
     "data": {
      "text/plain": [
       "count    2172.000000\n",
       "mean       19.187783\n",
       "std         6.809344\n",
       "min         2.424682\n",
       "25%        13.600000\n",
       "50%        19.000000\n",
       "75%        23.304348\n",
       "max        35.211621\n",
       "Name: Margem Bruta, dtype: float64"
      ]
     },
     "execution_count": 42,
     "metadata": {},
     "output_type": "execute_result"
    }
   ],
   "source": [
    "data['Margem Bruta'].describe()"
   ]
  },
  {
   "cell_type": "markdown",
   "metadata": {},
   "source": [
    "##### Produtos com maior margem bruta por ano "
   ]
  },
  {
   "cell_type": "code",
   "execution_count": 18,
   "metadata": {},
   "outputs": [
    {
     "data": {
      "text/html": [
       "<div>\n",
       "<style scoped>\n",
       "    .dataframe tbody tr th:only-of-type {\n",
       "        vertical-align: middle;\n",
       "    }\n",
       "\n",
       "    .dataframe tbody tr th {\n",
       "        vertical-align: top;\n",
       "    }\n",
       "\n",
       "    .dataframe thead th {\n",
       "        text-align: right;\n",
       "    }\n",
       "</style>\n",
       "<table border=\"1\" class=\"dataframe\">\n",
       "  <thead>\n",
       "    <tr style=\"text-align: right;\">\n",
       "      <th></th>\n",
       "      <th>Ano</th>\n",
       "      <th>Produto</th>\n",
       "      <th>Margem Bruta</th>\n",
       "    </tr>\n",
       "  </thead>\n",
       "  <tbody>\n",
       "    <tr>\n",
       "      <th>1017</th>\n",
       "      <td>2017</td>\n",
       "      <td>Rodbye Troje</td>\n",
       "      <td>35.211621</td>\n",
       "    </tr>\n",
       "    <tr>\n",
       "      <th>421</th>\n",
       "      <td>2016</td>\n",
       "      <td>Squash Shorts</td>\n",
       "      <td>35.204397</td>\n",
       "    </tr>\n",
       "    <tr>\n",
       "      <th>678</th>\n",
       "      <td>2018</td>\n",
       "      <td>Snake Boots</td>\n",
       "      <td>35.200080</td>\n",
       "    </tr>\n",
       "    <tr>\n",
       "      <th>794</th>\n",
       "      <td>2015</td>\n",
       "      <td>Basket Vest</td>\n",
       "      <td>33.762641</td>\n",
       "    </tr>\n",
       "    <tr>\n",
       "      <th>122</th>\n",
       "      <td>2014</td>\n",
       "      <td>Rasta WCT</td>\n",
       "      <td>30.881007</td>\n",
       "    </tr>\n",
       "  </tbody>\n",
       "</table>\n",
       "</div>"
      ],
      "text/plain": [
       "       Ano        Produto  Margem Bruta\n",
       "1017  2017   Rodbye Troje     35.211621\n",
       "421   2016  Squash Shorts     35.204397\n",
       "678   2018    Snake Boots     35.200080\n",
       "794   2015    Basket Vest     33.762641\n",
       "122   2014      Rasta WCT     30.881007"
      ]
     },
     "execution_count": 18,
     "metadata": {},
     "output_type": "execute_result"
    }
   ],
   "source": [
    "df = data[[\"Ano\",\"Produto\", \"Margem Bruta\"]]\n",
    "df.sort_values(['Margem Bruta', 'Ano'],ascending=False).groupby('Ano').head(1)"
   ]
  },
  {
   "cell_type": "markdown",
   "metadata": {},
   "source": [
    "Aqui visualizarmos que os produtos com maiores margem bruta de lucro não são aqueles que influenciaram no maior faturamento da empresa. "
   ]
  }
 ],
 "metadata": {
  "interpreter": {
   "hash": "076549bc33e34b4055787afb540d21ceb4fce9fcaf49076d535ca95bca4d0838"
  },
  "kernelspec": {
   "display_name": "Python 3.9.11 64-bit (windows store)",
   "language": "python",
   "name": "python3"
  },
  "language_info": {
   "codemirror_mode": {
    "name": "ipython",
    "version": 3
   },
   "file_extension": ".py",
   "mimetype": "text/x-python",
   "name": "python",
   "nbconvert_exporter": "python",
   "pygments_lexer": "ipython3",
   "version": "3.9.11"
  },
  "orig_nbformat": 4
 },
 "nbformat": 4,
 "nbformat_minor": 2
}
