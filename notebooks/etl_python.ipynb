{
 "cells": [
  {
   "cell_type": "markdown",
   "metadata": {},
   "source": [
    "#### Bibliotecas"
   ]
  },
  {
   "cell_type": "code",
   "execution_count": 1,
   "metadata": {},
   "outputs": [],
   "source": [
    "import pandas as pd\n",
    "import datetime as dt\n",
    "import numpy as np"
   ]
  },
  {
   "cell_type": "markdown",
   "metadata": {},
   "source": [
    "#### Configurações"
   ]
  },
  {
   "cell_type": "code",
   "execution_count": 2,
   "metadata": {},
   "outputs": [],
   "source": [
    "def descricao (df):\n",
    "    \"\"\"Essa função auxilia na descrição da base de dados\n",
    "    \n",
    "    Paramêtros:\n",
    "\n",
    "    df = base de dados\"\"\"\n",
    "\n",
    "    resultado = []\n",
    "\n",
    "    for col in df.columns:\n",
    "\n",
    "        naonulo  = len(df) - np.sum(pd.isna(df[col]))\n",
    "        Null = np.sum(pd.isna(df[col]))\n",
    "        unico = df[col].nunique()\n",
    "        duplicado = df.duplicated().sum()\n",
    "        tipocol = str(df[col].dtype)\n",
    "\n",
    "        resultado.append([col, naonulo, Null, unico, duplicado, tipocol])\n",
    "\n",
    "    resultado = pd.DataFrame(resultado)   \n",
    "    resultado.columns = [\"Nome da Columa\",\"Não Nulo\", \"Null\", \"Único\", \"Duplicado\", \"Tipo\"]\n",
    "\n",
    "    return resultado"
   ]
  },
  {
   "cell_type": "markdown",
   "metadata": {},
   "source": [
    "#### 1. Tabelas Dimensão"
   ]
  },
  {
   "cell_type": "markdown",
   "metadata": {},
   "source": [
    "Tendo em vista que base **Dimensoes_DadosModelagem** possui diversas *sheets*, irei fazer o tratamento de dados quando necessário em cada uma delas."
   ]
  },
  {
   "cell_type": "markdown",
   "metadata": {},
   "source": [
    "#### Dimensão Clientes"
   ]
  },
  {
   "cell_type": "code",
   "execution_count": 3,
   "metadata": {},
   "outputs": [],
   "source": [
    "#Primeira sheet: Dimensão Clientes\n",
    "d_cli = pd.read_excel(\"Dimensoes_DadosModelagem.xlsx\") #Importando dados "
   ]
  },
  {
   "cell_type": "markdown",
   "metadata": {},
   "source": [
    "**Visualizando a base de dados**"
   ]
  },
  {
   "cell_type": "code",
   "execution_count": 4,
   "metadata": {},
   "outputs": [
    {
     "data": {
      "text/html": [
       "<div>\n",
       "<style scoped>\n",
       "    .dataframe tbody tr th:only-of-type {\n",
       "        vertical-align: middle;\n",
       "    }\n",
       "\n",
       "    .dataframe tbody tr th {\n",
       "        vertical-align: top;\n",
       "    }\n",
       "\n",
       "    .dataframe thead th {\n",
       "        text-align: right;\n",
       "    }\n",
       "</style>\n",
       "<table border=\"1\" class=\"dataframe\">\n",
       "  <thead>\n",
       "    <tr style=\"text-align: right;\">\n",
       "      <th></th>\n",
       "      <th>ClienteID</th>\n",
       "      <th>Cliente</th>\n",
       "      <th>NomeContato</th>\n",
       "      <th>Endereco</th>\n",
       "      <th>Cidade</th>\n",
       "      <th>Pais</th>\n",
       "      <th>PaisCodigo</th>\n",
       "      <th>Regiao</th>\n",
       "      <th>CEP</th>\n",
       "      <th>Latitude</th>\n",
       "      <th>Longitude</th>\n",
       "      <th>Fax</th>\n",
       "      <th>Telefone</th>\n",
       "    </tr>\n",
       "  </thead>\n",
       "  <tbody>\n",
       "    <tr>\n",
       "      <th>0</th>\n",
       "      <td>1</td>\n",
       "      <td>Eintrach GS</td>\n",
       "      <td>Albert von Einstein</td>\n",
       "      <td>Obere Str. 57</td>\n",
       "      <td>Berlin</td>\n",
       "      <td>Germany</td>\n",
       "      <td>DE</td>\n",
       "      <td>Europe</td>\n",
       "      <td>12209.0</td>\n",
       "      <td>52.401482</td>\n",
       "      <td>13.099724</td>\n",
       "      <td>030-0076545</td>\n",
       "      <td>030-0074321</td>\n",
       "    </tr>\n",
       "    <tr>\n",
       "      <th>1</th>\n",
       "      <td>2</td>\n",
       "      <td>La Tienda de la Esquina</td>\n",
       "      <td>Paco el Maco</td>\n",
       "      <td>Avda. de la Constitución 2222</td>\n",
       "      <td>Mexico City</td>\n",
       "      <td>Mexico</td>\n",
       "      <td>MX</td>\n",
       "      <td>North America</td>\n",
       "      <td>5021.0</td>\n",
       "      <td>19.631915</td>\n",
       "      <td>-99.133418</td>\n",
       "      <td>(5) 555-3745</td>\n",
       "      <td>(5) 555-4729</td>\n",
       "    </tr>\n",
       "  </tbody>\n",
       "</table>\n",
       "</div>"
      ],
      "text/plain": [
       "   ClienteID                  Cliente          NomeContato  \\\n",
       "0          1              Eintrach GS  Albert von Einstein   \n",
       "1          2  La Tienda de la Esquina         Paco el Maco   \n",
       "\n",
       "                        Endereco       Cidade     Pais PaisCodigo  \\\n",
       "0                  Obere Str. 57       Berlin  Germany         DE   \n",
       "1  Avda. de la Constitución 2222  Mexico City   Mexico         MX   \n",
       "\n",
       "          Regiao      CEP   Latitude  Longitude           Fax      Telefone  \n",
       "0         Europe  12209.0  52.401482  13.099724   030-0076545   030-0074321  \n",
       "1  North America   5021.0  19.631915 -99.133418  (5) 555-3745  (5) 555-4729  "
      ]
     },
     "execution_count": 4,
     "metadata": {},
     "output_type": "execute_result"
    }
   ],
   "source": [
    "d_cli.head(2)"
   ]
  },
  {
   "cell_type": "markdown",
   "metadata": {},
   "source": [
    "**Dimensão da base de dados**"
   ]
  },
  {
   "cell_type": "code",
   "execution_count": 5,
   "metadata": {},
   "outputs": [
    {
     "name": "stdout",
     "output_type": "stream",
     "text": [
      "Base - Dimensão Clientes\n",
      "Nº de linhas: 90\n",
      "Nº de colunas: 13\n"
     ]
    }
   ],
   "source": [
    "print(\"Base - Dimensão Clientes\")\n",
    "print(\"Nº de linhas: {:,}\" .format(d_cli.shape[0]))\n",
    "print(\"Nº de colunas: {:,}\" .format(d_cli.shape[1]))\n"
   ]
  },
  {
   "cell_type": "markdown",
   "metadata": {},
   "source": [
    "**Tabela descritiva da base de dados**"
   ]
  },
  {
   "cell_type": "code",
   "execution_count": 6,
   "metadata": {},
   "outputs": [
    {
     "data": {
      "text/html": [
       "<div>\n",
       "<style scoped>\n",
       "    .dataframe tbody tr th:only-of-type {\n",
       "        vertical-align: middle;\n",
       "    }\n",
       "\n",
       "    .dataframe tbody tr th {\n",
       "        vertical-align: top;\n",
       "    }\n",
       "\n",
       "    .dataframe thead th {\n",
       "        text-align: right;\n",
       "    }\n",
       "</style>\n",
       "<table border=\"1\" class=\"dataframe\">\n",
       "  <thead>\n",
       "    <tr style=\"text-align: right;\">\n",
       "      <th></th>\n",
       "      <th>Nome da Columa</th>\n",
       "      <th>Não Nulo</th>\n",
       "      <th>Null</th>\n",
       "      <th>Único</th>\n",
       "      <th>Duplicado</th>\n",
       "      <th>Tipo</th>\n",
       "    </tr>\n",
       "  </thead>\n",
       "  <tbody>\n",
       "    <tr>\n",
       "      <th>0</th>\n",
       "      <td>ClienteID</td>\n",
       "      <td>90</td>\n",
       "      <td>0</td>\n",
       "      <td>90</td>\n",
       "      <td>0</td>\n",
       "      <td>int64</td>\n",
       "    </tr>\n",
       "    <tr>\n",
       "      <th>1</th>\n",
       "      <td>Cliente</td>\n",
       "      <td>90</td>\n",
       "      <td>0</td>\n",
       "      <td>90</td>\n",
       "      <td>0</td>\n",
       "      <td>object</td>\n",
       "    </tr>\n",
       "    <tr>\n",
       "      <th>2</th>\n",
       "      <td>NomeContato</td>\n",
       "      <td>90</td>\n",
       "      <td>0</td>\n",
       "      <td>90</td>\n",
       "      <td>0</td>\n",
       "      <td>object</td>\n",
       "    </tr>\n",
       "    <tr>\n",
       "      <th>3</th>\n",
       "      <td>Endereco</td>\n",
       "      <td>90</td>\n",
       "      <td>0</td>\n",
       "      <td>90</td>\n",
       "      <td>0</td>\n",
       "      <td>object</td>\n",
       "    </tr>\n",
       "    <tr>\n",
       "      <th>4</th>\n",
       "      <td>Cidade</td>\n",
       "      <td>90</td>\n",
       "      <td>0</td>\n",
       "      <td>67</td>\n",
       "      <td>0</td>\n",
       "      <td>object</td>\n",
       "    </tr>\n",
       "    <tr>\n",
       "      <th>5</th>\n",
       "      <td>Pais</td>\n",
       "      <td>90</td>\n",
       "      <td>0</td>\n",
       "      <td>21</td>\n",
       "      <td>0</td>\n",
       "      <td>object</td>\n",
       "    </tr>\n",
       "    <tr>\n",
       "      <th>6</th>\n",
       "      <td>PaisCodigo</td>\n",
       "      <td>90</td>\n",
       "      <td>0</td>\n",
       "      <td>21</td>\n",
       "      <td>0</td>\n",
       "      <td>object</td>\n",
       "    </tr>\n",
       "    <tr>\n",
       "      <th>7</th>\n",
       "      <td>Regiao</td>\n",
       "      <td>90</td>\n",
       "      <td>0</td>\n",
       "      <td>3</td>\n",
       "      <td>0</td>\n",
       "      <td>object</td>\n",
       "    </tr>\n",
       "    <tr>\n",
       "      <th>8</th>\n",
       "      <td>CEP</td>\n",
       "      <td>66</td>\n",
       "      <td>24</td>\n",
       "      <td>60</td>\n",
       "      <td>0</td>\n",
       "      <td>float64</td>\n",
       "    </tr>\n",
       "    <tr>\n",
       "      <th>9</th>\n",
       "      <td>Latitude</td>\n",
       "      <td>90</td>\n",
       "      <td>0</td>\n",
       "      <td>90</td>\n",
       "      <td>0</td>\n",
       "      <td>float64</td>\n",
       "    </tr>\n",
       "    <tr>\n",
       "      <th>10</th>\n",
       "      <td>Longitude</td>\n",
       "      <td>90</td>\n",
       "      <td>0</td>\n",
       "      <td>90</td>\n",
       "      <td>0</td>\n",
       "      <td>float64</td>\n",
       "    </tr>\n",
       "    <tr>\n",
       "      <th>11</th>\n",
       "      <td>Fax</td>\n",
       "      <td>66</td>\n",
       "      <td>24</td>\n",
       "      <td>66</td>\n",
       "      <td>0</td>\n",
       "      <td>object</td>\n",
       "    </tr>\n",
       "    <tr>\n",
       "      <th>12</th>\n",
       "      <td>Telefone</td>\n",
       "      <td>88</td>\n",
       "      <td>2</td>\n",
       "      <td>88</td>\n",
       "      <td>0</td>\n",
       "      <td>object</td>\n",
       "    </tr>\n",
       "  </tbody>\n",
       "</table>\n",
       "</div>"
      ],
      "text/plain": [
       "   Nome da Columa  Não Nulo  Null  Único  Duplicado     Tipo\n",
       "0       ClienteID        90     0     90          0    int64\n",
       "1         Cliente        90     0     90          0   object\n",
       "2     NomeContato        90     0     90          0   object\n",
       "3        Endereco        90     0     90          0   object\n",
       "4          Cidade        90     0     67          0   object\n",
       "5            Pais        90     0     21          0   object\n",
       "6      PaisCodigo        90     0     21          0   object\n",
       "7          Regiao        90     0      3          0   object\n",
       "8             CEP        66    24     60          0  float64\n",
       "9        Latitude        90     0     90          0  float64\n",
       "10      Longitude        90     0     90          0  float64\n",
       "11            Fax        66    24     66          0   object\n",
       "12       Telefone        88     2     88          0   object"
      ]
     },
     "execution_count": 6,
     "metadata": {},
     "output_type": "execute_result"
    }
   ],
   "source": [
    "descricao(d_cli)"
   ]
  },
  {
   "cell_type": "markdown",
   "metadata": {},
   "source": [
    "Não foi possível observar dados duplicados, uma das principais preocupações em uma tabela dimensão. Além disso, foram encontrados valores ausentes nas colunas *CEP*, *Fax* e *Telefone*. Atentando que tais variáveis não serão utilizadas na análise e que a retirada dessas linhas excluiria em conjunto a chave primária *ClienteID*, opta-se pelo prosseguimento da análise. "
   ]
  },
  {
   "cell_type": "markdown",
   "metadata": {},
   "source": [
    "#### Dimensão Funcionários"
   ]
  },
  {
   "cell_type": "code",
   "execution_count": 8,
   "metadata": {},
   "outputs": [],
   "source": [
    "#Segunda sheet: Dimensão Funcionários\n",
    "d_func = pd.read_excel(\"Dimensoes_DadosModelagem.xlsx\", sheet_name= 1)"
   ]
  },
  {
   "cell_type": "markdown",
   "metadata": {},
   "source": [
    "**Visualizando a base de dados**"
   ]
  },
  {
   "cell_type": "code",
   "execution_count": 9,
   "metadata": {},
   "outputs": [
    {
     "data": {
      "text/html": [
       "<div>\n",
       "<style scoped>\n",
       "    .dataframe tbody tr th:only-of-type {\n",
       "        vertical-align: middle;\n",
       "    }\n",
       "\n",
       "    .dataframe tbody tr th {\n",
       "        vertical-align: top;\n",
       "    }\n",
       "\n",
       "    .dataframe thead th {\n",
       "        text-align: right;\n",
       "    }\n",
       "</style>\n",
       "<table border=\"1\" class=\"dataframe\">\n",
       "  <thead>\n",
       "    <tr style=\"text-align: right;\">\n",
       "      <th></th>\n",
       "      <th>FuncionarioID</th>\n",
       "      <th>Extensao</th>\n",
       "      <th>NomeFuncionario</th>\n",
       "      <th>Genero</th>\n",
       "      <th>DataAdmissao</th>\n",
       "      <th>Escritorio</th>\n",
       "      <th>Supervisor</th>\n",
       "      <th>Cargo</th>\n",
       "      <th>SalarioAnual</th>\n",
       "      <th>MetaVendas</th>\n",
       "    </tr>\n",
       "  </thead>\n",
       "  <tbody>\n",
       "    <tr>\n",
       "      <th>0</th>\n",
       "      <td>11</td>\n",
       "      <td>501.0</td>\n",
       "      <td>Rock Rollman</td>\n",
       "      <td>M</td>\n",
       "      <td>2012-10-01</td>\n",
       "      <td>5</td>\n",
       "      <td>Fletcher G. Mason</td>\n",
       "      <td>Sales Representative</td>\n",
       "      <td>135000</td>\n",
       "      <td>300000.0</td>\n",
       "    </tr>\n",
       "    <tr>\n",
       "      <th>1</th>\n",
       "      <td>2</td>\n",
       "      <td>101.0</td>\n",
       "      <td>Eli Preston</td>\n",
       "      <td>M</td>\n",
       "      <td>2011-09-15</td>\n",
       "      <td>1</td>\n",
       "      <td>Fletcher G. Mason</td>\n",
       "      <td>Sales Representative</td>\n",
       "      <td>97000</td>\n",
       "      <td>90000.0</td>\n",
       "    </tr>\n",
       "  </tbody>\n",
       "</table>\n",
       "</div>"
      ],
      "text/plain": [
       "   FuncionarioID  Extensao NomeFuncionario Genero DataAdmissao  Escritorio  \\\n",
       "0             11     501.0    Rock Rollman      M   2012-10-01           5   \n",
       "1              2     101.0     Eli Preston      M   2011-09-15           1   \n",
       "\n",
       "          Supervisor                 Cargo  SalarioAnual  MetaVendas  \n",
       "0  Fletcher G. Mason  Sales Representative        135000    300000.0  \n",
       "1  Fletcher G. Mason  Sales Representative         97000     90000.0  "
      ]
     },
     "execution_count": 9,
     "metadata": {},
     "output_type": "execute_result"
    }
   ],
   "source": [
    "d_func.head(2)"
   ]
  },
  {
   "cell_type": "markdown",
   "metadata": {},
   "source": [
    "**Dimensão da base de dados**"
   ]
  },
  {
   "cell_type": "code",
   "execution_count": 10,
   "metadata": {},
   "outputs": [
    {
     "name": "stdout",
     "output_type": "stream",
     "text": [
      "Base - Dimensão Funcionários\n",
      "Nº de linhas: 47\n",
      "Nº de colunas: 10\n"
     ]
    }
   ],
   "source": [
    "print(\"Base - Dimensão Funcionários\")\n",
    "print(\"Nº de linhas: {:,}\" .format(d_func.shape[0]))\n",
    "print(\"Nº de colunas: {:,}\" .format(d_func.shape[1]))"
   ]
  },
  {
   "cell_type": "markdown",
   "metadata": {},
   "source": [
    "**Tabela descritiva da base de dados**"
   ]
  },
  {
   "cell_type": "code",
   "execution_count": 11,
   "metadata": {},
   "outputs": [
    {
     "data": {
      "text/html": [
       "<div>\n",
       "<style scoped>\n",
       "    .dataframe tbody tr th:only-of-type {\n",
       "        vertical-align: middle;\n",
       "    }\n",
       "\n",
       "    .dataframe tbody tr th {\n",
       "        vertical-align: top;\n",
       "    }\n",
       "\n",
       "    .dataframe thead th {\n",
       "        text-align: right;\n",
       "    }\n",
       "</style>\n",
       "<table border=\"1\" class=\"dataframe\">\n",
       "  <thead>\n",
       "    <tr style=\"text-align: right;\">\n",
       "      <th></th>\n",
       "      <th>Nome da Columa</th>\n",
       "      <th>Não Nulo</th>\n",
       "      <th>Null</th>\n",
       "      <th>Único</th>\n",
       "      <th>Duplicado</th>\n",
       "      <th>Tipo</th>\n",
       "    </tr>\n",
       "  </thead>\n",
       "  <tbody>\n",
       "    <tr>\n",
       "      <th>0</th>\n",
       "      <td>FuncionarioID</td>\n",
       "      <td>47</td>\n",
       "      <td>0</td>\n",
       "      <td>47</td>\n",
       "      <td>0</td>\n",
       "      <td>int64</td>\n",
       "    </tr>\n",
       "    <tr>\n",
       "      <th>1</th>\n",
       "      <td>Extensao</td>\n",
       "      <td>39</td>\n",
       "      <td>8</td>\n",
       "      <td>24</td>\n",
       "      <td>0</td>\n",
       "      <td>float64</td>\n",
       "    </tr>\n",
       "    <tr>\n",
       "      <th>2</th>\n",
       "      <td>NomeFuncionario</td>\n",
       "      <td>47</td>\n",
       "      <td>0</td>\n",
       "      <td>47</td>\n",
       "      <td>0</td>\n",
       "      <td>object</td>\n",
       "    </tr>\n",
       "    <tr>\n",
       "      <th>3</th>\n",
       "      <td>Genero</td>\n",
       "      <td>47</td>\n",
       "      <td>0</td>\n",
       "      <td>2</td>\n",
       "      <td>0</td>\n",
       "      <td>object</td>\n",
       "    </tr>\n",
       "    <tr>\n",
       "      <th>4</th>\n",
       "      <td>DataAdmissao</td>\n",
       "      <td>47</td>\n",
       "      <td>0</td>\n",
       "      <td>41</td>\n",
       "      <td>0</td>\n",
       "      <td>datetime64[ns]</td>\n",
       "    </tr>\n",
       "    <tr>\n",
       "      <th>5</th>\n",
       "      <td>Escritorio</td>\n",
       "      <td>47</td>\n",
       "      <td>0</td>\n",
       "      <td>5</td>\n",
       "      <td>0</td>\n",
       "      <td>int64</td>\n",
       "    </tr>\n",
       "    <tr>\n",
       "      <th>6</th>\n",
       "      <td>Supervisor</td>\n",
       "      <td>47</td>\n",
       "      <td>0</td>\n",
       "      <td>9</td>\n",
       "      <td>0</td>\n",
       "      <td>object</td>\n",
       "    </tr>\n",
       "    <tr>\n",
       "      <th>7</th>\n",
       "      <td>Cargo</td>\n",
       "      <td>47</td>\n",
       "      <td>0</td>\n",
       "      <td>9</td>\n",
       "      <td>0</td>\n",
       "      <td>object</td>\n",
       "    </tr>\n",
       "    <tr>\n",
       "      <th>8</th>\n",
       "      <td>SalarioAnual</td>\n",
       "      <td>47</td>\n",
       "      <td>0</td>\n",
       "      <td>38</td>\n",
       "      <td>0</td>\n",
       "      <td>int64</td>\n",
       "    </tr>\n",
       "    <tr>\n",
       "      <th>9</th>\n",
       "      <td>MetaVendas</td>\n",
       "      <td>9</td>\n",
       "      <td>38</td>\n",
       "      <td>8</td>\n",
       "      <td>0</td>\n",
       "      <td>float64</td>\n",
       "    </tr>\n",
       "  </tbody>\n",
       "</table>\n",
       "</div>"
      ],
      "text/plain": [
       "    Nome da Columa  Não Nulo  Null  Único  Duplicado            Tipo\n",
       "0    FuncionarioID        47     0     47          0           int64\n",
       "1         Extensao        39     8     24          0         float64\n",
       "2  NomeFuncionario        47     0     47          0          object\n",
       "3           Genero        47     0      2          0          object\n",
       "4     DataAdmissao        47     0     41          0  datetime64[ns]\n",
       "5       Escritorio        47     0      5          0           int64\n",
       "6       Supervisor        47     0      9          0          object\n",
       "7            Cargo        47     0      9          0          object\n",
       "8     SalarioAnual        47     0     38          0           int64\n",
       "9       MetaVendas         9    38      8          0         float64"
      ]
     },
     "execution_count": 11,
     "metadata": {},
     "output_type": "execute_result"
    }
   ],
   "source": [
    "descricao(d_func)"
   ]
  },
  {
   "cell_type": "markdown",
   "metadata": {},
   "source": [
    "Não foi possível observar valores duplicados, entretanto encontra-se valores ausentes nas colunas *Extensao* e *MetaVendas*. Dado que a extensão telefônica do funcionário não é importante para o problema da análise, prossegue-se sem o preenchimento dos valores ausentes para essa coluna. \n",
    "\n",
    "Considerando que *MetaVendas* possa ser importante para a análise desses dados, procura-se entender quais são esses valores ausentes e o seu preenchimento. "
   ]
  },
  {
   "cell_type": "markdown",
   "metadata": {},
   "source": [
    "**Preenchendo as informações faltantes**"
   ]
  },
  {
   "cell_type": "code",
   "execution_count": 272,
   "metadata": {},
   "outputs": [
    {
     "data": {
      "text/html": [
       "<div>\n",
       "<style scoped>\n",
       "    .dataframe tbody tr th:only-of-type {\n",
       "        vertical-align: middle;\n",
       "    }\n",
       "\n",
       "    .dataframe tbody tr th {\n",
       "        vertical-align: top;\n",
       "    }\n",
       "\n",
       "    .dataframe thead th {\n",
       "        text-align: right;\n",
       "    }\n",
       "</style>\n",
       "<table border=\"1\" class=\"dataframe\">\n",
       "  <thead>\n",
       "    <tr style=\"text-align: right;\">\n",
       "      <th></th>\n",
       "      <th>FuncionarioID</th>\n",
       "      <th>Extensao</th>\n",
       "      <th>NomeFuncionario</th>\n",
       "      <th>Genero</th>\n",
       "      <th>DataAdmissao</th>\n",
       "      <th>Escritorio</th>\n",
       "      <th>Supervisor</th>\n",
       "      <th>Cargo</th>\n",
       "      <th>SalarioAnual</th>\n",
       "      <th>MetaVendas</th>\n",
       "    </tr>\n",
       "  </thead>\n",
       "  <tbody>\n",
       "    <tr>\n",
       "      <th>34</th>\n",
       "      <td>44</td>\n",
       "      <td>204.0</td>\n",
       "      <td>Clark Kentman</td>\n",
       "      <td>M</td>\n",
       "      <td>2012-02-01</td>\n",
       "      <td>2</td>\n",
       "      <td>Kamal E. Kirk</td>\n",
       "      <td>Account Manager</td>\n",
       "      <td>55000</td>\n",
       "      <td>NaN</td>\n",
       "    </tr>\n",
       "    <tr>\n",
       "      <th>21</th>\n",
       "      <td>31</td>\n",
       "      <td>500.0</td>\n",
       "      <td>Keith Helmkey</td>\n",
       "      <td>M</td>\n",
       "      <td>2015-04-01</td>\n",
       "      <td>5</td>\n",
       "      <td>Buckminster A. Fleming</td>\n",
       "      <td>Storeman</td>\n",
       "      <td>30200</td>\n",
       "      <td>NaN</td>\n",
       "    </tr>\n",
       "    <tr>\n",
       "      <th>41</th>\n",
       "      <td>51</td>\n",
       "      <td>NaN</td>\n",
       "      <td>Lucky Luke</td>\n",
       "      <td>M</td>\n",
       "      <td>2015-01-03</td>\n",
       "      <td>3</td>\n",
       "      <td>Fletcher G. Mason</td>\n",
       "      <td>Operator/Clerk</td>\n",
       "      <td>25000</td>\n",
       "      <td>NaN</td>\n",
       "    </tr>\n",
       "    <tr>\n",
       "      <th>24</th>\n",
       "      <td>34</td>\n",
       "      <td>300.0</td>\n",
       "      <td>Bill Yang</td>\n",
       "      <td>M</td>\n",
       "      <td>2015-01-11</td>\n",
       "      <td>3</td>\n",
       "      <td>Buckminster A. Fleming</td>\n",
       "      <td>Storeman</td>\n",
       "      <td>32500</td>\n",
       "      <td>NaN</td>\n",
       "    </tr>\n",
       "    <tr>\n",
       "      <th>42</th>\n",
       "      <td>52</td>\n",
       "      <td>NaN</td>\n",
       "      <td>Mike Ashkenaz</td>\n",
       "      <td>M</td>\n",
       "      <td>2014-11-30</td>\n",
       "      <td>1</td>\n",
       "      <td>Kaitlin K. Chavez</td>\n",
       "      <td>Account Manager</td>\n",
       "      <td>49500</td>\n",
       "      <td>NaN</td>\n",
       "    </tr>\n",
       "  </tbody>\n",
       "</table>\n",
       "</div>"
      ],
      "text/plain": [
       "    FuncionarioID  Extensao NomeFuncionario Genero DataAdmissao  Escritorio  \\\n",
       "34             44     204.0   Clark Kentman      M   2012-02-01           2   \n",
       "21             31     500.0   Keith Helmkey      M   2015-04-01           5   \n",
       "41             51       NaN      Lucky Luke      M   2015-01-03           3   \n",
       "24             34     300.0       Bill Yang      M   2015-01-11           3   \n",
       "42             52       NaN   Mike Ashkenaz      M   2014-11-30           1   \n",
       "\n",
       "                Supervisor            Cargo  SalarioAnual  MetaVendas  \n",
       "34           Kamal E. Kirk  Account Manager         55000         NaN  \n",
       "21  Buckminster A. Fleming         Storeman         30200         NaN  \n",
       "41       Fletcher G. Mason   Operator/Clerk         25000         NaN  \n",
       "24  Buckminster A. Fleming         Storeman         32500         NaN  \n",
       "42       Kaitlin K. Chavez  Account Manager         49500         NaN  "
      ]
     },
     "execution_count": 272,
     "metadata": {},
     "output_type": "execute_result"
    }
   ],
   "source": [
    "#Visualizando alguns dados ausentes (NaN)\n",
    "d_func[d_func[\"MetaVendas\"].isna()].sample(5)"
   ]
  },
  {
   "cell_type": "code",
   "execution_count": 12,
   "metadata": {},
   "outputs": [
    {
     "data": {
      "text/html": [
       "<div>\n",
       "<style scoped>\n",
       "    .dataframe tbody tr th:only-of-type {\n",
       "        vertical-align: middle;\n",
       "    }\n",
       "\n",
       "    .dataframe tbody tr th {\n",
       "        vertical-align: top;\n",
       "    }\n",
       "\n",
       "    .dataframe thead th {\n",
       "        text-align: right;\n",
       "    }\n",
       "</style>\n",
       "<table border=\"1\" class=\"dataframe\">\n",
       "  <thead>\n",
       "    <tr style=\"text-align: right;\">\n",
       "      <th></th>\n",
       "      <th>MetaVendas</th>\n",
       "    </tr>\n",
       "    <tr>\n",
       "      <th>Cargo</th>\n",
       "      <th></th>\n",
       "    </tr>\n",
       "  </thead>\n",
       "  <tbody>\n",
       "    <tr>\n",
       "      <th>Account Manager</th>\n",
       "      <td>12</td>\n",
       "    </tr>\n",
       "    <tr>\n",
       "      <th>Network Manager</th>\n",
       "      <td>2</td>\n",
       "    </tr>\n",
       "    <tr>\n",
       "      <th>Operator/Clerk</th>\n",
       "      <td>3</td>\n",
       "    </tr>\n",
       "    <tr>\n",
       "      <th>Product Manager</th>\n",
       "      <td>4</td>\n",
       "    </tr>\n",
       "    <tr>\n",
       "      <th>Sales Coordinator</th>\n",
       "      <td>0</td>\n",
       "    </tr>\n",
       "    <tr>\n",
       "      <th>Sales Manager</th>\n",
       "      <td>0</td>\n",
       "    </tr>\n",
       "    <tr>\n",
       "      <th>Sales Representative</th>\n",
       "      <td>0</td>\n",
       "    </tr>\n",
       "    <tr>\n",
       "      <th>Storeman</th>\n",
       "      <td>11</td>\n",
       "    </tr>\n",
       "    <tr>\n",
       "      <th>Systems Manager</th>\n",
       "      <td>6</td>\n",
       "    </tr>\n",
       "  </tbody>\n",
       "</table>\n",
       "</div>"
      ],
      "text/plain": [
       "                      MetaVendas\n",
       "Cargo                           \n",
       "Account Manager               12\n",
       "Network Manager                2\n",
       "Operator/Clerk                 3\n",
       "Product Manager                4\n",
       "Sales Coordinator              0\n",
       "Sales Manager                  0\n",
       "Sales Representative           0\n",
       "Storeman                      11\n",
       "Systems Manager                6"
      ]
     },
     "execution_count": 12,
     "metadata": {},
     "output_type": "execute_result"
    }
   ],
   "source": [
    "#Conferindo se apenas o pessoal de cargos diferentes de Sales que não tem metas \n",
    "d_func.groupby(\"Cargo\")[[\"MetaVendas\"]].apply(lambda x: x.isna().sum())"
   ]
  },
  {
   "cell_type": "markdown",
   "metadata": {},
   "source": [
    "Observa-se que de fato apenas os funcionários com cargos não relacionados a vendas que não possuem metas."
   ]
  },
  {
   "cell_type": "code",
   "execution_count": 13,
   "metadata": {},
   "outputs": [],
   "source": [
    "#Preenchendo os valores ausentes em MetasVendas em O\n",
    "d_func['MetaVendas'].fillna(0, inplace=True)"
   ]
  },
  {
   "cell_type": "markdown",
   "metadata": {},
   "source": [
    "#### Dimensão Escritórios"
   ]
  },
  {
   "cell_type": "code",
   "execution_count": 14,
   "metadata": {},
   "outputs": [],
   "source": [
    "#Terceira sheet: Dimensão Escritórios\n",
    "d_esc = pd.read_excel(\"Dimensoes_DadosModelagem.xlsx\", sheet_name= 2) #Importando dados "
   ]
  },
  {
   "cell_type": "markdown",
   "metadata": {},
   "source": [
    "**Visualizando a base de dados**"
   ]
  },
  {
   "cell_type": "code",
   "execution_count": 15,
   "metadata": {},
   "outputs": [
    {
     "data": {
      "text/html": [
       "<div>\n",
       "<style scoped>\n",
       "    .dataframe tbody tr th:only-of-type {\n",
       "        vertical-align: middle;\n",
       "    }\n",
       "\n",
       "    .dataframe tbody tr th {\n",
       "        vertical-align: top;\n",
       "    }\n",
       "\n",
       "    .dataframe thead th {\n",
       "        text-align: right;\n",
       "    }\n",
       "</style>\n",
       "<table border=\"1\" class=\"dataframe\">\n",
       "  <thead>\n",
       "    <tr style=\"text-align: right;\">\n",
       "      <th></th>\n",
       "      <th>Escritorios</th>\n",
       "      <th>EscritorioLocalizacao</th>\n",
       "    </tr>\n",
       "  </thead>\n",
       "  <tbody>\n",
       "    <tr>\n",
       "      <th>0</th>\n",
       "      <td>1</td>\n",
       "      <td>Stockholm</td>\n",
       "    </tr>\n",
       "    <tr>\n",
       "      <th>1</th>\n",
       "      <td>2</td>\n",
       "      <td>Lund</td>\n",
       "    </tr>\n",
       "  </tbody>\n",
       "</table>\n",
       "</div>"
      ],
      "text/plain": [
       "   Escritorios EscritorioLocalizacao\n",
       "0            1             Stockholm\n",
       "1            2                  Lund"
      ]
     },
     "execution_count": 15,
     "metadata": {},
     "output_type": "execute_result"
    }
   ],
   "source": [
    "d_esc.head(2)"
   ]
  },
  {
   "cell_type": "markdown",
   "metadata": {},
   "source": [
    "**Dimensão da base de dados**"
   ]
  },
  {
   "cell_type": "code",
   "execution_count": 16,
   "metadata": {},
   "outputs": [
    {
     "name": "stdout",
     "output_type": "stream",
     "text": [
      "Base - Dimensão Escritórios\n",
      "Nº de linhas: 5\n",
      "Nº de colunas: 2\n"
     ]
    }
   ],
   "source": [
    "print(\"Base - Dimensão Escritórios\")\n",
    "print(\"Nº de linhas: {:,}\" .format(d_esc.shape[0]))\n",
    "print(\"Nº de colunas: {:,}\" .format(d_esc.shape[1]))"
   ]
  },
  {
   "cell_type": "markdown",
   "metadata": {},
   "source": [
    "**Tabela descritiva da base de dados**"
   ]
  },
  {
   "cell_type": "code",
   "execution_count": 17,
   "metadata": {},
   "outputs": [
    {
     "data": {
      "text/html": [
       "<div>\n",
       "<style scoped>\n",
       "    .dataframe tbody tr th:only-of-type {\n",
       "        vertical-align: middle;\n",
       "    }\n",
       "\n",
       "    .dataframe tbody tr th {\n",
       "        vertical-align: top;\n",
       "    }\n",
       "\n",
       "    .dataframe thead th {\n",
       "        text-align: right;\n",
       "    }\n",
       "</style>\n",
       "<table border=\"1\" class=\"dataframe\">\n",
       "  <thead>\n",
       "    <tr style=\"text-align: right;\">\n",
       "      <th></th>\n",
       "      <th>Nome da Columa</th>\n",
       "      <th>Não Nulo</th>\n",
       "      <th>Null</th>\n",
       "      <th>Único</th>\n",
       "      <th>Duplicado</th>\n",
       "      <th>Tipo</th>\n",
       "    </tr>\n",
       "  </thead>\n",
       "  <tbody>\n",
       "    <tr>\n",
       "      <th>0</th>\n",
       "      <td>FuncionarioID</td>\n",
       "      <td>47</td>\n",
       "      <td>0</td>\n",
       "      <td>47</td>\n",
       "      <td>0</td>\n",
       "      <td>int64</td>\n",
       "    </tr>\n",
       "    <tr>\n",
       "      <th>1</th>\n",
       "      <td>Extensao</td>\n",
       "      <td>39</td>\n",
       "      <td>8</td>\n",
       "      <td>24</td>\n",
       "      <td>0</td>\n",
       "      <td>float64</td>\n",
       "    </tr>\n",
       "    <tr>\n",
       "      <th>2</th>\n",
       "      <td>NomeFuncionario</td>\n",
       "      <td>47</td>\n",
       "      <td>0</td>\n",
       "      <td>47</td>\n",
       "      <td>0</td>\n",
       "      <td>object</td>\n",
       "    </tr>\n",
       "    <tr>\n",
       "      <th>3</th>\n",
       "      <td>Genero</td>\n",
       "      <td>47</td>\n",
       "      <td>0</td>\n",
       "      <td>2</td>\n",
       "      <td>0</td>\n",
       "      <td>object</td>\n",
       "    </tr>\n",
       "    <tr>\n",
       "      <th>4</th>\n",
       "      <td>DataAdmissao</td>\n",
       "      <td>47</td>\n",
       "      <td>0</td>\n",
       "      <td>41</td>\n",
       "      <td>0</td>\n",
       "      <td>datetime64[ns]</td>\n",
       "    </tr>\n",
       "    <tr>\n",
       "      <th>5</th>\n",
       "      <td>Escritorio</td>\n",
       "      <td>47</td>\n",
       "      <td>0</td>\n",
       "      <td>5</td>\n",
       "      <td>0</td>\n",
       "      <td>int64</td>\n",
       "    </tr>\n",
       "    <tr>\n",
       "      <th>6</th>\n",
       "      <td>Supervisor</td>\n",
       "      <td>47</td>\n",
       "      <td>0</td>\n",
       "      <td>9</td>\n",
       "      <td>0</td>\n",
       "      <td>object</td>\n",
       "    </tr>\n",
       "    <tr>\n",
       "      <th>7</th>\n",
       "      <td>Cargo</td>\n",
       "      <td>47</td>\n",
       "      <td>0</td>\n",
       "      <td>9</td>\n",
       "      <td>0</td>\n",
       "      <td>object</td>\n",
       "    </tr>\n",
       "    <tr>\n",
       "      <th>8</th>\n",
       "      <td>SalarioAnual</td>\n",
       "      <td>47</td>\n",
       "      <td>0</td>\n",
       "      <td>38</td>\n",
       "      <td>0</td>\n",
       "      <td>int64</td>\n",
       "    </tr>\n",
       "    <tr>\n",
       "      <th>9</th>\n",
       "      <td>MetaVendas</td>\n",
       "      <td>47</td>\n",
       "      <td>0</td>\n",
       "      <td>9</td>\n",
       "      <td>0</td>\n",
       "      <td>float64</td>\n",
       "    </tr>\n",
       "  </tbody>\n",
       "</table>\n",
       "</div>"
      ],
      "text/plain": [
       "    Nome da Columa  Não Nulo  Null  Único  Duplicado            Tipo\n",
       "0    FuncionarioID        47     0     47          0           int64\n",
       "1         Extensao        39     8     24          0         float64\n",
       "2  NomeFuncionario        47     0     47          0          object\n",
       "3           Genero        47     0      2          0          object\n",
       "4     DataAdmissao        47     0     41          0  datetime64[ns]\n",
       "5       Escritorio        47     0      5          0           int64\n",
       "6       Supervisor        47     0      9          0          object\n",
       "7            Cargo        47     0      9          0          object\n",
       "8     SalarioAnual        47     0     38          0           int64\n",
       "9       MetaVendas        47     0      9          0         float64"
      ]
     },
     "execution_count": 17,
     "metadata": {},
     "output_type": "execute_result"
    }
   ],
   "source": [
    "descricao(d_func)"
   ]
  },
  {
   "cell_type": "markdown",
   "metadata": {},
   "source": [
    "Não se encontra nenhum valor duplicado ou ausência de informações, com exceção a coluna *Extensão*. Portanto a base se encontra pronta para uso. "
   ]
  },
  {
   "cell_type": "markdown",
   "metadata": {},
   "source": [
    "#### Dimensão Categoria"
   ]
  },
  {
   "cell_type": "code",
   "execution_count": 18,
   "metadata": {},
   "outputs": [],
   "source": [
    "#Quarta sheet: Dimensão Categoria\n",
    "d_cat = pd.read_excel(\"Dimensoes_DadosModelagem.xlsx\", sheet_name=3) #Importando dados "
   ]
  },
  {
   "cell_type": "markdown",
   "metadata": {},
   "source": [
    "**Visualizando a base de dados**"
   ]
  },
  {
   "cell_type": "code",
   "execution_count": 19,
   "metadata": {},
   "outputs": [
    {
     "data": {
      "text/html": [
       "<div>\n",
       "<style scoped>\n",
       "    .dataframe tbody tr th:only-of-type {\n",
       "        vertical-align: middle;\n",
       "    }\n",
       "\n",
       "    .dataframe tbody tr th {\n",
       "        vertical-align: top;\n",
       "    }\n",
       "\n",
       "    .dataframe thead th {\n",
       "        text-align: right;\n",
       "    }\n",
       "</style>\n",
       "<table border=\"1\" class=\"dataframe\">\n",
       "  <thead>\n",
       "    <tr style=\"text-align: right;\">\n",
       "      <th></th>\n",
       "      <th>CategoriaID</th>\n",
       "      <th>Categoria</th>\n",
       "      <th>Departamento</th>\n",
       "      <th>Descricao</th>\n",
       "    </tr>\n",
       "  </thead>\n",
       "  <tbody>\n",
       "    <tr>\n",
       "      <th>0</th>\n",
       "      <td>1</td>\n",
       "      <td>Mens Clothes</td>\n",
       "      <td>Clothing</td>\n",
       "      <td>Fashion for Men</td>\n",
       "    </tr>\n",
       "    <tr>\n",
       "      <th>1</th>\n",
       "      <td>2</td>\n",
       "      <td>Womens wear</td>\n",
       "      <td>Clothing</td>\n",
       "      <td>Fashion for Women</td>\n",
       "    </tr>\n",
       "  </tbody>\n",
       "</table>\n",
       "</div>"
      ],
      "text/plain": [
       "   CategoriaID     Categoria Departamento          Descricao\n",
       "0            1  Mens Clothes     Clothing    Fashion for Men\n",
       "1            2   Womens wear     Clothing  Fashion for Women"
      ]
     },
     "execution_count": 19,
     "metadata": {},
     "output_type": "execute_result"
    }
   ],
   "source": [
    "d_cat.head(2)"
   ]
  },
  {
   "cell_type": "markdown",
   "metadata": {},
   "source": [
    "**Dimensão da base de dados**"
   ]
  },
  {
   "cell_type": "code",
   "execution_count": 20,
   "metadata": {},
   "outputs": [
    {
     "name": "stdout",
     "output_type": "stream",
     "text": [
      "Base - Dimensão Categoria\n",
      "Nº de linhas: 8\n",
      "Nº de colunas: 4\n"
     ]
    }
   ],
   "source": [
    "print(\"Base - Dimensão Categoria\")\n",
    "print(\"Nº de linhas: {:,}\" .format(d_cat.shape[0]))\n",
    "print(\"Nº de colunas: {:,}\" .format(d_cat.shape[1]))"
   ]
  },
  {
   "cell_type": "markdown",
   "metadata": {},
   "source": [
    "**Tabela descritiva da base de dados**"
   ]
  },
  {
   "cell_type": "code",
   "execution_count": 21,
   "metadata": {},
   "outputs": [
    {
     "data": {
      "text/html": [
       "<div>\n",
       "<style scoped>\n",
       "    .dataframe tbody tr th:only-of-type {\n",
       "        vertical-align: middle;\n",
       "    }\n",
       "\n",
       "    .dataframe tbody tr th {\n",
       "        vertical-align: top;\n",
       "    }\n",
       "\n",
       "    .dataframe thead th {\n",
       "        text-align: right;\n",
       "    }\n",
       "</style>\n",
       "<table border=\"1\" class=\"dataframe\">\n",
       "  <thead>\n",
       "    <tr style=\"text-align: right;\">\n",
       "      <th></th>\n",
       "      <th>Nome da Columa</th>\n",
       "      <th>Não Nulo</th>\n",
       "      <th>Null</th>\n",
       "      <th>Único</th>\n",
       "      <th>Duplicado</th>\n",
       "      <th>Tipo</th>\n",
       "    </tr>\n",
       "  </thead>\n",
       "  <tbody>\n",
       "    <tr>\n",
       "      <th>0</th>\n",
       "      <td>CategoriaID</td>\n",
       "      <td>8</td>\n",
       "      <td>0</td>\n",
       "      <td>8</td>\n",
       "      <td>0</td>\n",
       "      <td>int64</td>\n",
       "    </tr>\n",
       "    <tr>\n",
       "      <th>1</th>\n",
       "      <td>Categoria</td>\n",
       "      <td>8</td>\n",
       "      <td>0</td>\n",
       "      <td>8</td>\n",
       "      <td>0</td>\n",
       "      <td>object</td>\n",
       "    </tr>\n",
       "    <tr>\n",
       "      <th>2</th>\n",
       "      <td>Departamento</td>\n",
       "      <td>8</td>\n",
       "      <td>0</td>\n",
       "      <td>2</td>\n",
       "      <td>0</td>\n",
       "      <td>object</td>\n",
       "    </tr>\n",
       "    <tr>\n",
       "      <th>3</th>\n",
       "      <td>Descricao</td>\n",
       "      <td>8</td>\n",
       "      <td>0</td>\n",
       "      <td>8</td>\n",
       "      <td>0</td>\n",
       "      <td>object</td>\n",
       "    </tr>\n",
       "  </tbody>\n",
       "</table>\n",
       "</div>"
      ],
      "text/plain": [
       "  Nome da Columa  Não Nulo  Null  Único  Duplicado    Tipo\n",
       "0    CategoriaID         8     0      8          0   int64\n",
       "1      Categoria         8     0      8          0  object\n",
       "2   Departamento         8     0      2          0  object\n",
       "3      Descricao         8     0      8          0  object"
      ]
     },
     "execution_count": 21,
     "metadata": {},
     "output_type": "execute_result"
    }
   ],
   "source": [
    "descricao(d_cat)"
   ]
  },
  {
   "cell_type": "markdown",
   "metadata": {},
   "source": [
    "Mais uma vez, não é necessário nenhum tipo de tratamento na base de dados"
   ]
  },
  {
   "cell_type": "markdown",
   "metadata": {},
   "source": [
    "#### Dimensão Produto"
   ]
  },
  {
   "cell_type": "code",
   "execution_count": 22,
   "metadata": {},
   "outputs": [],
   "source": [
    "#Quinta sheet: Dimensão Produto\n",
    "d_prod = pd.read_excel(\"Dimensoes_DadosModelagem.xlsx\", sheet_name=4) #Importando dados "
   ]
  },
  {
   "cell_type": "markdown",
   "metadata": {},
   "source": [
    "**Visualizando a base de dados**"
   ]
  },
  {
   "cell_type": "code",
   "execution_count": 23,
   "metadata": {},
   "outputs": [
    {
     "data": {
      "text/html": [
       "<div>\n",
       "<style scoped>\n",
       "    .dataframe tbody tr th:only-of-type {\n",
       "        vertical-align: middle;\n",
       "    }\n",
       "\n",
       "    .dataframe tbody tr th {\n",
       "        vertical-align: top;\n",
       "    }\n",
       "\n",
       "    .dataframe thead th {\n",
       "        text-align: right;\n",
       "    }\n",
       "</style>\n",
       "<table border=\"1\" class=\"dataframe\">\n",
       "  <thead>\n",
       "    <tr style=\"text-align: right;\">\n",
       "      <th></th>\n",
       "      <th>ProdutoID</th>\n",
       "      <th>CategoriaID</th>\n",
       "      <th>Produto</th>\n",
       "      <th>FornecedorID</th>\n",
       "    </tr>\n",
       "  </thead>\n",
       "  <tbody>\n",
       "    <tr>\n",
       "      <th>0</th>\n",
       "      <td>1</td>\n",
       "      <td>1</td>\n",
       "      <td>Lenin Jeansshorts</td>\n",
       "      <td>1</td>\n",
       "    </tr>\n",
       "    <tr>\n",
       "      <th>1</th>\n",
       "      <td>2</td>\n",
       "      <td>1</td>\n",
       "      <td>Mr X Trousers</td>\n",
       "      <td>1</td>\n",
       "    </tr>\n",
       "  </tbody>\n",
       "</table>\n",
       "</div>"
      ],
      "text/plain": [
       "   ProdutoID  CategoriaID            Produto  FornecedorID\n",
       "0          1            1  Lenin Jeansshorts             1\n",
       "1          2            1      Mr X Trousers             1"
      ]
     },
     "execution_count": 23,
     "metadata": {},
     "output_type": "execute_result"
    }
   ],
   "source": [
    "d_prod.head(2)"
   ]
  },
  {
   "cell_type": "markdown",
   "metadata": {},
   "source": [
    "**Dimensão da base de dados**"
   ]
  },
  {
   "cell_type": "code",
   "execution_count": 24,
   "metadata": {},
   "outputs": [
    {
     "name": "stdout",
     "output_type": "stream",
     "text": [
      "Base - Dimensão Produto\n",
      "Nº de linhas: 77\n",
      "Nº de colunas: 4\n"
     ]
    }
   ],
   "source": [
    "print(\"Base - Dimensão Produto\")\n",
    "print(\"Nº de linhas: {:,}\" .format(d_prod.shape[0]))\n",
    "print(\"Nº de colunas: {:,}\" .format(d_prod.shape[1]))"
   ]
  },
  {
   "cell_type": "markdown",
   "metadata": {},
   "source": [
    "**Tratamento da base de dados**"
   ]
  },
  {
   "cell_type": "code",
   "execution_count": 25,
   "metadata": {},
   "outputs": [
    {
     "data": {
      "text/html": [
       "<div>\n",
       "<style scoped>\n",
       "    .dataframe tbody tr th:only-of-type {\n",
       "        vertical-align: middle;\n",
       "    }\n",
       "\n",
       "    .dataframe tbody tr th {\n",
       "        vertical-align: top;\n",
       "    }\n",
       "\n",
       "    .dataframe thead th {\n",
       "        text-align: right;\n",
       "    }\n",
       "</style>\n",
       "<table border=\"1\" class=\"dataframe\">\n",
       "  <thead>\n",
       "    <tr style=\"text-align: right;\">\n",
       "      <th></th>\n",
       "      <th>Nome da Columa</th>\n",
       "      <th>Não Nulo</th>\n",
       "      <th>Null</th>\n",
       "      <th>Único</th>\n",
       "      <th>Duplicado</th>\n",
       "      <th>Tipo</th>\n",
       "    </tr>\n",
       "  </thead>\n",
       "  <tbody>\n",
       "    <tr>\n",
       "      <th>0</th>\n",
       "      <td>ProdutoID</td>\n",
       "      <td>77</td>\n",
       "      <td>0</td>\n",
       "      <td>77</td>\n",
       "      <td>0</td>\n",
       "      <td>int64</td>\n",
       "    </tr>\n",
       "    <tr>\n",
       "      <th>1</th>\n",
       "      <td>CategoriaID</td>\n",
       "      <td>77</td>\n",
       "      <td>0</td>\n",
       "      <td>8</td>\n",
       "      <td>0</td>\n",
       "      <td>int64</td>\n",
       "    </tr>\n",
       "    <tr>\n",
       "      <th>2</th>\n",
       "      <td>Produto</td>\n",
       "      <td>77</td>\n",
       "      <td>0</td>\n",
       "      <td>77</td>\n",
       "      <td>0</td>\n",
       "      <td>object</td>\n",
       "    </tr>\n",
       "    <tr>\n",
       "      <th>3</th>\n",
       "      <td>FornecedorID</td>\n",
       "      <td>77</td>\n",
       "      <td>0</td>\n",
       "      <td>29</td>\n",
       "      <td>0</td>\n",
       "      <td>int64</td>\n",
       "    </tr>\n",
       "  </tbody>\n",
       "</table>\n",
       "</div>"
      ],
      "text/plain": [
       "  Nome da Columa  Não Nulo  Null  Único  Duplicado    Tipo\n",
       "0      ProdutoID        77     0     77          0   int64\n",
       "1    CategoriaID        77     0      8          0   int64\n",
       "2        Produto        77     0     77          0  object\n",
       "3   FornecedorID        77     0     29          0   int64"
      ]
     },
     "execution_count": 25,
     "metadata": {},
     "output_type": "execute_result"
    }
   ],
   "source": [
    "descricao(d_prod)"
   ]
  },
  {
   "cell_type": "markdown",
   "metadata": {},
   "source": [
    "Novamente nenhum problema com dados duplicados ou Null's."
   ]
  },
  {
   "cell_type": "markdown",
   "metadata": {},
   "source": [
    "#### Dimensão Fornecedor"
   ]
  },
  {
   "cell_type": "code",
   "execution_count": 26,
   "metadata": {},
   "outputs": [],
   "source": [
    "#Quinta sheet: Dimensão Fornecedor\n",
    "d_forn = pd.read_excel(\"Dimensoes_DadosModelagem.xlsx\", sheet_name=5) #Importando dados "
   ]
  },
  {
   "cell_type": "markdown",
   "metadata": {},
   "source": [
    "**Visualizando a base de dados**"
   ]
  },
  {
   "cell_type": "code",
   "execution_count": 27,
   "metadata": {},
   "outputs": [
    {
     "data": {
      "text/html": [
       "<div>\n",
       "<style scoped>\n",
       "    .dataframe tbody tr th:only-of-type {\n",
       "        vertical-align: middle;\n",
       "    }\n",
       "\n",
       "    .dataframe tbody tr th {\n",
       "        vertical-align: top;\n",
       "    }\n",
       "\n",
       "    .dataframe thead th {\n",
       "        text-align: right;\n",
       "    }\n",
       "</style>\n",
       "<table border=\"1\" class=\"dataframe\">\n",
       "  <thead>\n",
       "    <tr style=\"text-align: right;\">\n",
       "      <th></th>\n",
       "      <th>FornecedorID</th>\n",
       "      <th>Fornecedor</th>\n",
       "      <th>FornecedorContato</th>\n",
       "      <th>FornecedorPais</th>\n",
       "    </tr>\n",
       "  </thead>\n",
       "  <tbody>\n",
       "    <tr>\n",
       "      <th>0</th>\n",
       "      <td>1</td>\n",
       "      <td>Sunny Clothes</td>\n",
       "      <td>Peter Shilton</td>\n",
       "      <td>UK</td>\n",
       "    </tr>\n",
       "    <tr>\n",
       "      <th>1</th>\n",
       "      <td>2</td>\n",
       "      <td>Big L</td>\n",
       "      <td>James Brown</td>\n",
       "      <td>USA</td>\n",
       "    </tr>\n",
       "  </tbody>\n",
       "</table>\n",
       "</div>"
      ],
      "text/plain": [
       "   FornecedorID     Fornecedor FornecedorContato FornecedorPais\n",
       "0             1  Sunny Clothes     Peter Shilton             UK\n",
       "1             2          Big L       James Brown            USA"
      ]
     },
     "execution_count": 27,
     "metadata": {},
     "output_type": "execute_result"
    }
   ],
   "source": [
    "d_forn.head(2)"
   ]
  },
  {
   "cell_type": "markdown",
   "metadata": {},
   "source": [
    "**Dimensão da base de dados**"
   ]
  },
  {
   "cell_type": "code",
   "execution_count": 28,
   "metadata": {},
   "outputs": [
    {
     "name": "stdout",
     "output_type": "stream",
     "text": [
      "Base - Dimensão Fornecedor\n",
      "Nº de linhas: 29\n",
      "Nº de colunas: 4\n"
     ]
    }
   ],
   "source": [
    "print(\"Base - Dimensão Fornecedor\")\n",
    "print(\"Nº de linhas: {:,}\" .format(d_forn.shape[0]))\n",
    "print(\"Nº de colunas: {:,}\" .format(d_forn.shape[1]))"
   ]
  },
  {
   "cell_type": "markdown",
   "metadata": {},
   "source": [
    "**Tabela descritiva da base de dados**"
   ]
  },
  {
   "cell_type": "code",
   "execution_count": 29,
   "metadata": {},
   "outputs": [
    {
     "data": {
      "text/html": [
       "<div>\n",
       "<style scoped>\n",
       "    .dataframe tbody tr th:only-of-type {\n",
       "        vertical-align: middle;\n",
       "    }\n",
       "\n",
       "    .dataframe tbody tr th {\n",
       "        vertical-align: top;\n",
       "    }\n",
       "\n",
       "    .dataframe thead th {\n",
       "        text-align: right;\n",
       "    }\n",
       "</style>\n",
       "<table border=\"1\" class=\"dataframe\">\n",
       "  <thead>\n",
       "    <tr style=\"text-align: right;\">\n",
       "      <th></th>\n",
       "      <th>Nome da Columa</th>\n",
       "      <th>Não Nulo</th>\n",
       "      <th>Null</th>\n",
       "      <th>Único</th>\n",
       "      <th>Duplicado</th>\n",
       "      <th>Tipo</th>\n",
       "    </tr>\n",
       "  </thead>\n",
       "  <tbody>\n",
       "    <tr>\n",
       "      <th>0</th>\n",
       "      <td>FornecedorID</td>\n",
       "      <td>29</td>\n",
       "      <td>0</td>\n",
       "      <td>29</td>\n",
       "      <td>0</td>\n",
       "      <td>int64</td>\n",
       "    </tr>\n",
       "    <tr>\n",
       "      <th>1</th>\n",
       "      <td>Fornecedor</td>\n",
       "      <td>29</td>\n",
       "      <td>0</td>\n",
       "      <td>29</td>\n",
       "      <td>0</td>\n",
       "      <td>object</td>\n",
       "    </tr>\n",
       "    <tr>\n",
       "      <th>2</th>\n",
       "      <td>FornecedorContato</td>\n",
       "      <td>29</td>\n",
       "      <td>0</td>\n",
       "      <td>29</td>\n",
       "      <td>0</td>\n",
       "      <td>object</td>\n",
       "    </tr>\n",
       "    <tr>\n",
       "      <th>3</th>\n",
       "      <td>FornecedorPais</td>\n",
       "      <td>29</td>\n",
       "      <td>0</td>\n",
       "      <td>16</td>\n",
       "      <td>0</td>\n",
       "      <td>object</td>\n",
       "    </tr>\n",
       "  </tbody>\n",
       "</table>\n",
       "</div>"
      ],
      "text/plain": [
       "      Nome da Columa  Não Nulo  Null  Único  Duplicado    Tipo\n",
       "0       FornecedorID        29     0     29          0   int64\n",
       "1         Fornecedor        29     0     29          0  object\n",
       "2  FornecedorContato        29     0     29          0  object\n",
       "3     FornecedorPais        29     0     16          0  object"
      ]
     },
     "execution_count": 29,
     "metadata": {},
     "output_type": "execute_result"
    }
   ],
   "source": [
    "descricao(d_forn)"
   ]
  },
  {
   "cell_type": "markdown",
   "metadata": {},
   "source": [
    "Não foram encontrados valores ausentes ou duplicados. "
   ]
  },
  {
   "cell_type": "markdown",
   "metadata": {},
   "source": [
    "#### Exportando as bases de dados \n"
   ]
  },
  {
   "cell_type": "code",
   "execution_count": 252,
   "metadata": {},
   "outputs": [],
   "source": [
    "with pd.ExcelWriter('dimensoes.xlsx') as writer:  \n",
    "    d_cli.to_excel(writer, sheet_name='d_clientes', index = False)\n",
    "    d_func.to_excel(writer, sheet_name='d_funcionarios', index = False)\n",
    "    d_prod.to_excel(writer, sheet_name='d_produto', index = False)\n",
    "    d_cat.to_excel(writer, sheet_name='d_categoria',index = False)\n",
    "    d_forn.to_excel(writer, sheet_name='d_fornecedor',index = False)\n",
    "    d_esc.to_excel(writer, sheet_name='d_escritorio',index = False)"
   ]
  },
  {
   "cell_type": "markdown",
   "metadata": {},
   "source": [
    "#### 2. Tabelas Fato"
   ]
  },
  {
   "cell_type": "markdown",
   "metadata": {},
   "source": [
    "#### Fato Cabeçalho"
   ]
  },
  {
   "cell_type": "code",
   "execution_count": 30,
   "metadata": {},
   "outputs": [],
   "source": [
    "f_cab = pd.read_csv(\"FatoCabecalho_DadosModelagem.txt\", sep = \"\\t\", decimal=\",\") #Importando a base de dados"
   ]
  },
  {
   "cell_type": "markdown",
   "metadata": {},
   "source": [
    "**Visualizando a base de dados**"
   ]
  },
  {
   "cell_type": "code",
   "execution_count": 31,
   "metadata": {},
   "outputs": [
    {
     "data": {
      "text/html": [
       "<div>\n",
       "<style scoped>\n",
       "    .dataframe tbody tr th:only-of-type {\n",
       "        vertical-align: middle;\n",
       "    }\n",
       "\n",
       "    .dataframe tbody tr th {\n",
       "        vertical-align: top;\n",
       "    }\n",
       "\n",
       "    .dataframe thead th {\n",
       "        text-align: right;\n",
       "    }\n",
       "</style>\n",
       "<table border=\"1\" class=\"dataframe\">\n",
       "  <thead>\n",
       "    <tr style=\"text-align: right;\">\n",
       "      <th></th>\n",
       "      <th>Data</th>\n",
       "      <th>ClienteID</th>\n",
       "      <th>FuncionarioID</th>\n",
       "      <th>ValorFrete</th>\n",
       "      <th>CupomID</th>\n",
       "      <th>EmpresaFrete</th>\n",
       "      <th>DataEntrega</th>\n",
       "    </tr>\n",
       "  </thead>\n",
       "  <tbody>\n",
       "    <tr>\n",
       "      <th>0</th>\n",
       "      <td>22/03/2018</td>\n",
       "      <td>78</td>\n",
       "      <td>11</td>\n",
       "      <td>12.45</td>\n",
       "      <td>11081</td>\n",
       "      <td>Freight Express</td>\n",
       "      <td>05/04/2018</td>\n",
       "    </tr>\n",
       "    <tr>\n",
       "      <th>1</th>\n",
       "      <td>21/11/2016</td>\n",
       "      <td>62</td>\n",
       "      <td>3</td>\n",
       "      <td>20.01</td>\n",
       "      <td>10637</td>\n",
       "      <td>One Liners</td>\n",
       "      <td>24/11/2016</td>\n",
       "    </tr>\n",
       "  </tbody>\n",
       "</table>\n",
       "</div>"
      ],
      "text/plain": [
       "         Data  ClienteID  FuncionarioID  ValorFrete  CupomID     EmpresaFrete  \\\n",
       "0  22/03/2018         78             11       12.45    11081  Freight Express   \n",
       "1  21/11/2016         62              3       20.01    10637       One Liners   \n",
       "\n",
       "  DataEntrega  \n",
       "0  05/04/2018  \n",
       "1  24/11/2016  "
      ]
     },
     "execution_count": 31,
     "metadata": {},
     "output_type": "execute_result"
    }
   ],
   "source": [
    "f_cab.head(2)"
   ]
  },
  {
   "cell_type": "code",
   "execution_count": 32,
   "metadata": {},
   "outputs": [
    {
     "name": "stdout",
     "output_type": "stream",
     "text": [
      "Base - Fato Cabeçalho\n",
      "Nº de linhas: 836\n",
      "Nº de colunas: 7\n"
     ]
    }
   ],
   "source": [
    "print(\"Base - Fato Cabeçalho\")\n",
    "print(\"Nº de linhas: {:,}\" .format(f_cab.shape[0]))\n",
    "print(\"Nº de colunas: {:,}\" .format(f_cab.shape[1]))"
   ]
  },
  {
   "cell_type": "markdown",
   "metadata": {},
   "source": [
    "**Tabela descritiva da base de dados**"
   ]
  },
  {
   "cell_type": "code",
   "execution_count": 33,
   "metadata": {},
   "outputs": [
    {
     "data": {
      "text/html": [
       "<div>\n",
       "<style scoped>\n",
       "    .dataframe tbody tr th:only-of-type {\n",
       "        vertical-align: middle;\n",
       "    }\n",
       "\n",
       "    .dataframe tbody tr th {\n",
       "        vertical-align: top;\n",
       "    }\n",
       "\n",
       "    .dataframe thead th {\n",
       "        text-align: right;\n",
       "    }\n",
       "</style>\n",
       "<table border=\"1\" class=\"dataframe\">\n",
       "  <thead>\n",
       "    <tr style=\"text-align: right;\">\n",
       "      <th></th>\n",
       "      <th>Nome da Columa</th>\n",
       "      <th>Não Nulo</th>\n",
       "      <th>Null</th>\n",
       "      <th>Único</th>\n",
       "      <th>Duplicado</th>\n",
       "      <th>Tipo</th>\n",
       "    </tr>\n",
       "  </thead>\n",
       "  <tbody>\n",
       "    <tr>\n",
       "      <th>0</th>\n",
       "      <td>Data</td>\n",
       "      <td>836</td>\n",
       "      <td>0</td>\n",
       "      <td>533</td>\n",
       "      <td>0</td>\n",
       "      <td>object</td>\n",
       "    </tr>\n",
       "    <tr>\n",
       "      <th>1</th>\n",
       "      <td>ClienteID</td>\n",
       "      <td>836</td>\n",
       "      <td>0</td>\n",
       "      <td>90</td>\n",
       "      <td>0</td>\n",
       "      <td>int64</td>\n",
       "    </tr>\n",
       "    <tr>\n",
       "      <th>2</th>\n",
       "      <td>FuncionarioID</td>\n",
       "      <td>836</td>\n",
       "      <td>0</td>\n",
       "      <td>9</td>\n",
       "      <td>0</td>\n",
       "      <td>int64</td>\n",
       "    </tr>\n",
       "    <tr>\n",
       "      <th>3</th>\n",
       "      <td>ValorFrete</td>\n",
       "      <td>836</td>\n",
       "      <td>0</td>\n",
       "      <td>783</td>\n",
       "      <td>0</td>\n",
       "      <td>float64</td>\n",
       "    </tr>\n",
       "    <tr>\n",
       "      <th>4</th>\n",
       "      <td>CupomID</td>\n",
       "      <td>836</td>\n",
       "      <td>0</td>\n",
       "      <td>836</td>\n",
       "      <td>0</td>\n",
       "      <td>int64</td>\n",
       "    </tr>\n",
       "    <tr>\n",
       "      <th>5</th>\n",
       "      <td>EmpresaFrete</td>\n",
       "      <td>836</td>\n",
       "      <td>0</td>\n",
       "      <td>3</td>\n",
       "      <td>0</td>\n",
       "      <td>object</td>\n",
       "    </tr>\n",
       "    <tr>\n",
       "      <th>6</th>\n",
       "      <td>DataEntrega</td>\n",
       "      <td>836</td>\n",
       "      <td>0</td>\n",
       "      <td>556</td>\n",
       "      <td>0</td>\n",
       "      <td>object</td>\n",
       "    </tr>\n",
       "  </tbody>\n",
       "</table>\n",
       "</div>"
      ],
      "text/plain": [
       "  Nome da Columa  Não Nulo  Null  Único  Duplicado     Tipo\n",
       "0           Data       836     0    533          0   object\n",
       "1      ClienteID       836     0     90          0    int64\n",
       "2  FuncionarioID       836     0      9          0    int64\n",
       "3     ValorFrete       836     0    783          0  float64\n",
       "4        CupomID       836     0    836          0    int64\n",
       "5   EmpresaFrete       836     0      3          0   object\n",
       "6    DataEntrega       836     0    556          0   object"
      ]
     },
     "execution_count": 33,
     "metadata": {},
     "output_type": "execute_result"
    }
   ],
   "source": [
    "descricao(f_cab)"
   ]
  },
  {
   "cell_type": "markdown",
   "metadata": {},
   "source": [
    "Não foi possível encontrar nenhum dado duplicado ou nulo. "
   ]
  },
  {
   "cell_type": "markdown",
   "metadata": {},
   "source": [
    "#### Fato Detalhes"
   ]
  },
  {
   "cell_type": "code",
   "execution_count": 34,
   "metadata": {},
   "outputs": [],
   "source": [
    "f_detalhes = pd.read_csv(\"FatoDetalhes_DadosModelagem.csv\", sep = \";\", decimal=\",\") #Importando a base de dados"
   ]
  },
  {
   "cell_type": "markdown",
   "metadata": {},
   "source": [
    "**Visualizando a base de dados**"
   ]
  },
  {
   "cell_type": "code",
   "execution_count": 36,
   "metadata": {},
   "outputs": [
    {
     "data": {
      "text/html": [
       "<div>\n",
       "<style scoped>\n",
       "    .dataframe tbody tr th:only-of-type {\n",
       "        vertical-align: middle;\n",
       "    }\n",
       "\n",
       "    .dataframe tbody tr th {\n",
       "        vertical-align: top;\n",
       "    }\n",
       "\n",
       "    .dataframe thead th {\n",
       "        text-align: right;\n",
       "    }\n",
       "</style>\n",
       "<table border=\"1\" class=\"dataframe\">\n",
       "  <thead>\n",
       "    <tr style=\"text-align: right;\">\n",
       "      <th></th>\n",
       "      <th>CupomID</th>\n",
       "      <th>ProdutoID</th>\n",
       "      <th>Quantidade</th>\n",
       "      <th>Valor</th>\n",
       "      <th>Desconto</th>\n",
       "      <th>Custo</th>\n",
       "      <th>ValorLiquido</th>\n",
       "    </tr>\n",
       "  </thead>\n",
       "  <tbody>\n",
       "    <tr>\n",
       "      <th>0</th>\n",
       "      <td>10308</td>\n",
       "      <td>69</td>\n",
       "      <td>1</td>\n",
       "      <td>2.12</td>\n",
       "      <td>0.0000</td>\n",
       "      <td>1.8317</td>\n",
       "      <td>0.2883</td>\n",
       "    </tr>\n",
       "    <tr>\n",
       "      <th>1</th>\n",
       "      <td>10558</td>\n",
       "      <td>73</td>\n",
       "      <td>3</td>\n",
       "      <td>2.97</td>\n",
       "      <td>0.0000</td>\n",
       "      <td>2.4057</td>\n",
       "      <td>0.5643</td>\n",
       "    </tr>\n",
       "    <tr>\n",
       "      <th>2</th>\n",
       "      <td>10259</td>\n",
       "      <td>37</td>\n",
       "      <td>1</td>\n",
       "      <td>4.37</td>\n",
       "      <td>0.0000</td>\n",
       "      <td>3.7757</td>\n",
       "      <td>0.5943</td>\n",
       "    </tr>\n",
       "    <tr>\n",
       "      <th>3</th>\n",
       "      <td>11077</td>\n",
       "      <td>73</td>\n",
       "      <td>5</td>\n",
       "      <td>6.11</td>\n",
       "      <td>0.0605</td>\n",
       "      <td>5.8380</td>\n",
       "      <td>0.2725</td>\n",
       "    </tr>\n",
       "    <tr>\n",
       "      <th>4</th>\n",
       "      <td>10752</td>\n",
       "      <td>69</td>\n",
       "      <td>3</td>\n",
       "      <td>6.57</td>\n",
       "      <td>0.0000</td>\n",
       "      <td>5.3217</td>\n",
       "      <td>1.2483</td>\n",
       "    </tr>\n",
       "  </tbody>\n",
       "</table>\n",
       "</div>"
      ],
      "text/plain": [
       "   CupomID  ProdutoID  Quantidade  Valor  Desconto   Custo  ValorLiquido\n",
       "0    10308         69           1   2.12    0.0000  1.8317        0.2883\n",
       "1    10558         73           3   2.97    0.0000  2.4057        0.5643\n",
       "2    10259         37           1   4.37    0.0000  3.7757        0.5943\n",
       "3    11077         73           5   6.11    0.0605  5.8380        0.2725\n",
       "4    10752         69           3   6.57    0.0000  5.3217        1.2483"
      ]
     },
     "execution_count": 36,
     "metadata": {},
     "output_type": "execute_result"
    }
   ],
   "source": [
    "f_detalhes.head()"
   ]
  },
  {
   "cell_type": "markdown",
   "metadata": {},
   "source": [
    "**Dimensão da base de dados**"
   ]
  },
  {
   "cell_type": "code",
   "execution_count": 37,
   "metadata": {},
   "outputs": [
    {
     "name": "stdout",
     "output_type": "stream",
     "text": [
      "Base - Fato Detalhes\n",
      "Nº de linhas: 2,172\n",
      "Nº de colunas: 7\n"
     ]
    }
   ],
   "source": [
    "print(\"Base - Fato Detalhes\")\n",
    "print(\"Nº de linhas: {:,}\" .format(f_detalhes.shape[0]))\n",
    "print(\"Nº de colunas: {:,}\" .format(f_detalhes.shape[1]))"
   ]
  },
  {
   "cell_type": "markdown",
   "metadata": {},
   "source": [
    "**Tabela descritiva da base de dados**"
   ]
  },
  {
   "cell_type": "code",
   "execution_count": 38,
   "metadata": {},
   "outputs": [
    {
     "data": {
      "text/html": [
       "<div>\n",
       "<style scoped>\n",
       "    .dataframe tbody tr th:only-of-type {\n",
       "        vertical-align: middle;\n",
       "    }\n",
       "\n",
       "    .dataframe tbody tr th {\n",
       "        vertical-align: top;\n",
       "    }\n",
       "\n",
       "    .dataframe thead th {\n",
       "        text-align: right;\n",
       "    }\n",
       "</style>\n",
       "<table border=\"1\" class=\"dataframe\">\n",
       "  <thead>\n",
       "    <tr style=\"text-align: right;\">\n",
       "      <th></th>\n",
       "      <th>Nome da Columa</th>\n",
       "      <th>Não Nulo</th>\n",
       "      <th>Null</th>\n",
       "      <th>Único</th>\n",
       "      <th>Duplicado</th>\n",
       "      <th>Tipo</th>\n",
       "    </tr>\n",
       "  </thead>\n",
       "  <tbody>\n",
       "    <tr>\n",
       "      <th>0</th>\n",
       "      <td>CupomID</td>\n",
       "      <td>2172</td>\n",
       "      <td>0</td>\n",
       "      <td>836</td>\n",
       "      <td>0</td>\n",
       "      <td>int64</td>\n",
       "    </tr>\n",
       "    <tr>\n",
       "      <th>1</th>\n",
       "      <td>ProdutoID</td>\n",
       "      <td>2172</td>\n",
       "      <td>0</td>\n",
       "      <td>77</td>\n",
       "      <td>0</td>\n",
       "      <td>int64</td>\n",
       "    </tr>\n",
       "    <tr>\n",
       "      <th>2</th>\n",
       "      <td>Quantidade</td>\n",
       "      <td>2172</td>\n",
       "      <td>0</td>\n",
       "      <td>56</td>\n",
       "      <td>0</td>\n",
       "      <td>int64</td>\n",
       "    </tr>\n",
       "    <tr>\n",
       "      <th>3</th>\n",
       "      <td>Valor</td>\n",
       "      <td>2172</td>\n",
       "      <td>0</td>\n",
       "      <td>2105</td>\n",
       "      <td>0</td>\n",
       "      <td>float64</td>\n",
       "    </tr>\n",
       "    <tr>\n",
       "      <th>4</th>\n",
       "      <td>Desconto</td>\n",
       "      <td>2172</td>\n",
       "      <td>0</td>\n",
       "      <td>829</td>\n",
       "      <td>0</td>\n",
       "      <td>float64</td>\n",
       "    </tr>\n",
       "    <tr>\n",
       "      <th>5</th>\n",
       "      <td>Custo</td>\n",
       "      <td>2172</td>\n",
       "      <td>0</td>\n",
       "      <td>2140</td>\n",
       "      <td>0</td>\n",
       "      <td>float64</td>\n",
       "    </tr>\n",
       "    <tr>\n",
       "      <th>6</th>\n",
       "      <td>ValorLiquido</td>\n",
       "      <td>2172</td>\n",
       "      <td>0</td>\n",
       "      <td>2149</td>\n",
       "      <td>0</td>\n",
       "      <td>float64</td>\n",
       "    </tr>\n",
       "  </tbody>\n",
       "</table>\n",
       "</div>"
      ],
      "text/plain": [
       "  Nome da Columa  Não Nulo  Null  Único  Duplicado     Tipo\n",
       "0        CupomID      2172     0    836          0    int64\n",
       "1      ProdutoID      2172     0     77          0    int64\n",
       "2     Quantidade      2172     0     56          0    int64\n",
       "3          Valor      2172     0   2105          0  float64\n",
       "4       Desconto      2172     0    829          0  float64\n",
       "5          Custo      2172     0   2140          0  float64\n",
       "6   ValorLiquido      2172     0   2149          0  float64"
      ]
     },
     "execution_count": 38,
     "metadata": {},
     "output_type": "execute_result"
    }
   ],
   "source": [
    "descricao(f_detalhes)"
   ]
  },
  {
   "cell_type": "markdown",
   "metadata": {},
   "source": [
    "Como anteriormente não foi encontrado linhas com ausências de informações ou dados duplicados. "
   ]
  },
  {
   "cell_type": "markdown",
   "metadata": {},
   "source": [
    "**Fazendo relacionamento entre as duas tabelas fato**"
   ]
  },
  {
   "cell_type": "code",
   "execution_count": 39,
   "metadata": {},
   "outputs": [],
   "source": [
    "fatos = pd.merge(left = f_detalhes , right = f_cab, on = [\"CupomID\"], how = \"inner\")"
   ]
  },
  {
   "cell_type": "markdown",
   "metadata": {},
   "source": [
    "#### Exportando a base de dados"
   ]
  },
  {
   "cell_type": "code",
   "execution_count": 263,
   "metadata": {},
   "outputs": [],
   "source": [
    "fatos.to_csv('fatos.csv', index=False)"
   ]
  }
 ],
 "metadata": {
  "interpreter": {
   "hash": "076549bc33e34b4055787afb540d21ceb4fce9fcaf49076d535ca95bca4d0838"
  },
  "kernelspec": {
   "display_name": "Python 3.9.10 64-bit (windows store)",
   "language": "python",
   "name": "python3"
  },
  "language_info": {
   "codemirror_mode": {
    "name": "ipython",
    "version": 3
   },
   "file_extension": ".py",
   "mimetype": "text/x-python",
   "name": "python",
   "nbconvert_exporter": "python",
   "pygments_lexer": "ipython3",
   "version": "3.9.11"
  },
  "orig_nbformat": 4
 },
 "nbformat": 4,
 "nbformat_minor": 2
}
