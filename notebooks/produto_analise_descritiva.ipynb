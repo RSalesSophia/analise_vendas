{
 "cells": [
  {
   "cell_type": "markdown",
   "metadata": {},
   "source": [
    "#### Análise de perfil de produtos com Python"
   ]
  },
  {
   "cell_type": "markdown",
   "metadata": {},
   "source": [
    "A presente análise traz um perfil detalhado sobre os produtos da companhia ao longo de agosto de 2014 a abril de 2018. Serão geradas informações relativas aos produtos pertencentes a cada departamento, às quantidades vendidas, aos produtos que mais vendem, entre outros. Essas informações foram extraídas da base de dados resultante da combinação entre tabelas Fato: *Detalhes* e *Cabecalho* e Dimensão: *Categoria*, *Funcionario* e *Escritorio*. Os resultados obtidos a partir dessa análise podem contribuir para que sejam adotadas melhores práticas que visem aumentar o desempenho da empresa."
   ]
  },
  {
   "cell_type": "markdown",
   "metadata": {},
   "source": [
    "##### Bibliotecas"
   ]
  },
  {
   "cell_type": "code",
   "execution_count": 1,
   "metadata": {},
   "outputs": [],
   "source": [
    "import pandas as pd\n",
    "import datetime as dt\n",
    "import numpy as np\n",
    "import matplotlib.pyplot as plt\n",
    "from anytree import Node, RenderTree"
   ]
  },
  {
   "cell_type": "markdown",
   "metadata": {},
   "source": [
    "##### Relacionamento entre as bases *fato* e *dimensões*"
   ]
  },
  {
   "cell_type": "code",
   "execution_count": 2,
   "metadata": {},
   "outputs": [],
   "source": [
    "#Importando a tabela fato união entre Cabecalho e Detalhes\n",
    "\n",
    "fatos = pd.read_csv(\"fatos.csv\", decimal = \",\")"
   ]
  },
  {
   "cell_type": "code",
   "execution_count": 3,
   "metadata": {},
   "outputs": [],
   "source": [
    "#Importando as tabelas dimensões\n",
    "\n",
    "#Dimensão Categoria\n",
    "d_cat = pd.read_excel(\"Dimensoes_DadosModelagem.xlsx\", sheet_name=3)\n",
    "#Dimensão Produto\n",
    "d_prod = pd.read_excel(\"Dimensoes_DadosModelagem.xlsx\", sheet_name=4)\n",
    "#Dimensão Funcionários\n",
    "d_func = pd.read_excel(\"Dimensoes_DadosModelagem.xlsx\", sheet_name= 1)\n",
    "#Dimensão Escritórios\n",
    "d_esc = pd.read_excel(\"Dimensoes_DadosModelagem.xlsx\", sheet_name= 2)\n"
   ]
  },
  {
   "cell_type": "code",
   "execution_count": 4,
   "metadata": {},
   "outputs": [],
   "source": [
    "#Relacionamento: entre d_prod e d_cat\n",
    "data = pd.merge(left = d_prod, right = d_cat, on = [\"CategoriaID\"], how = \"inner\")\n",
    "\n",
    "#Relacionamento: entre data e f_cab\n",
    "data = pd.merge(left = data, right = fatos, on = [\"ProdutoID\"], how = \"inner\")\n",
    "\n",
    "#Relacionamento: entre data e d_func\n",
    "data = pd.merge(left = data, right = d_func,  on = [\"FuncionarioID\"], how = \"inner\")\n",
    "\n",
    "#Relacionamento: entre data e d_esc\n",
    "data = pd.merge(left = data, right = d_esc,  left_on = [\"Escritorio\"], right_on = [\"Escritorios\"], how = \"inner\")"
   ]
  },
  {
   "cell_type": "markdown",
   "metadata": {},
   "source": [
    "##### Descrição do período analisado"
   ]
  },
  {
   "cell_type": "markdown",
   "metadata": {},
   "source": [
    "Data inicial e final da análise:"
   ]
  },
  {
   "cell_type": "code",
   "execution_count": 5,
   "metadata": {},
   "outputs": [
    {
     "name": "stdout",
     "output_type": "stream",
     "text": [
      "Data inicial: 2014-07-30 00:00:00\n",
      "Data final: 2018-04-07 00:00:00\n"
     ]
    }
   ],
   "source": [
    "#Convertendo a coluna Data em data\n",
    "data['Data']= pd.to_datetime(data['Data'], format = \"%d/%m/%Y\")\n",
    "\n",
    "print(\"Data inicial:\", min(data['Data']))\n",
    "\n",
    "print(\"Data final:\", max(data['Data']))"
   ]
  },
  {
   "cell_type": "markdown",
   "metadata": {},
   "source": [
    "Criando variáveis para ano e meses:"
   ]
  },
  {
   "cell_type": "code",
   "execution_count": 6,
   "metadata": {},
   "outputs": [],
   "source": [
    "#Criando a variável ano\n",
    "data['Ano'] = pd.DatetimeIndex(data['Data']).year\n",
    "\n",
    "#Criando a variável mês\n",
    "data['Mês'] = pd.DatetimeIndex(data['Data']).month"
   ]
  },
  {
   "cell_type": "markdown",
   "metadata": {},
   "source": [
    "Descobrindo quais os meses de venda para cada ano:"
   ]
  },
  {
   "cell_type": "code",
   "execution_count": 7,
   "metadata": {},
   "outputs": [
    {
     "data": {
      "text/plain": [
       "Ano\n",
       "2014                      [7, 8, 9, 10, 11, 12]\n",
       "2015    [1, 2, 3, 4, 5, 6, 7, 8, 9, 10, 11, 12]\n",
       "2016    [1, 2, 3, 4, 5, 6, 7, 8, 9, 10, 11, 12]\n",
       "2017    [1, 2, 3, 4, 5, 6, 7, 8, 9, 10, 11, 12]\n",
       "2018                               [1, 2, 3, 4]\n",
       "Name: Mês, dtype: object"
      ]
     },
     "execution_count": 7,
     "metadata": {},
     "output_type": "execute_result"
    }
   ],
   "source": [
    "data.groupby(\"Ano\")['Mês'].apply(lambda x: list(np.unique(x)))"
   ]
  },
  {
   "cell_type": "markdown",
   "metadata": {},
   "source": [
    "É importante destacar aqui que os dados de 2014 e 2018 estão incompletos. Assim possivelmente seus resultados financeiros relativos a produtos serão menores. "
   ]
  },
  {
   "cell_type": "markdown",
   "metadata": {},
   "source": [
    "##### Hierarquia para identificar departamentos e produtos"
   ]
  },
  {
   "cell_type": "code",
   "execution_count": 8,
   "metadata": {},
   "outputs": [],
   "source": [
    "#Selecioando as coluanas referentes a departamento e produto\n",
    "df = data.copy()\n",
    "df = df[['Departamento', 'Produto']]\n",
    "\n",
    "#Transformando dataframe em lista\n",
    "df = df.values.tolist()\n"
   ]
  },
  {
   "cell_type": "code",
   "execution_count": 9,
   "metadata": {},
   "outputs": [
    {
     "name": "stdout",
     "output_type": "stream",
     "text": [
      "Clothing\n",
      "├── Lenin Jeansshorts\n",
      "├── Mr X Trousers\n",
      "├── O-Man Underwear\n",
      "├── Desperado Jeans\n",
      "├── Samba Socker  Socks\n",
      "├── US-Master Jeans\n",
      "├── Atles Lussekofta\n",
      "├── Bow tie\n",
      "├── Chantell Shirt\n",
      "├── Oyaki Kimono\n",
      "├── Shagall Socks\n",
      "├── Tuxedo\n",
      "├── Sumi Underwear\n",
      "├── Le Baby Dress\n",
      "├── Terence Top\n",
      "├── Okkaba Skin Jackets\n",
      "├── Jumpin Jack Flash Dress\n",
      "├── Serve-Shirt\n",
      "├── Stretch oui-pants\n",
      "├── Skirt\n",
      "├── Conserve Shoes\n",
      "├── RDL Suit\n",
      "├── Nikee Running Shoes\n",
      "├── Sapporoo Gloves\n",
      "├── Aino Shoes\n",
      "├── Mehmet-Tröja\n",
      "├── Duck Trousers\n",
      "├── Duck Shirt\n",
      "├── Rodbye Troje\n",
      "├── Mehmet-Napp\n",
      "├── Rossi Bermuda Shorts\n",
      "├── Rossi Bikkini\n",
      "├── Baywatch Bikkini\n",
      "├── LA. Shorts\n",
      "├── Summer Shorts\n",
      "├── Rossi Shorts\n",
      "├── Wimbledon T-Shirt\n",
      "├── Squash Shorts\n",
      "├── Tennis Suit\n",
      "├── Basket Shoes\n",
      "├── Basket Vest\n",
      "├── Bike Helmet\n",
      "├── Car Boots\n",
      "├── Finnish Sport Blades\n",
      "├── Finnish Swimsuit\n",
      "├── Patamonia Fleece Jacket\n",
      "├── Feiss Fleece Trousers\n",
      "├── Rasta WCT\n",
      "├── Game Over T-Shirt\n",
      "├── Adihash Running Shoe\n",
      "├── Sheat Shoes\n",
      "├── Cap\n",
      "├── Racing Truck  Socks\n",
      "├── Langoste Shirt\n",
      "├── X-Dress\n",
      "├── Minnki Pälsii\n",
      "├── Kool Sunglasses\n",
      "├── Deuce shirt\n",
      "├── Baby Dark Lounge Suit\n",
      "├── Mehmet-Skor\n",
      "├── Ga-Ga Dress\n",
      "├── Tiny Winy Hot Bikini\n",
      "└── Tracksuit\n",
      "Shoes\n",
      "├── Fuji Boots\n",
      "├── TieBreak Tennis shoes\n",
      "├── Danske Treshoe\n",
      "├── Lundenhagen Boots\n",
      "├── Root Boot\n",
      "├── Snake Boots\n",
      "├── Ravellis Träskor\n",
      "├── Balett Shoes\n",
      "├── High Heels Shoes\n",
      "├── Davenport\n",
      "├── DSW\n",
      "├── Small Crocodile Boots\n",
      "├── Burned Rubber Shoes\n",
      "└── WFS shoes\n"
     ]
    }
   ],
   "source": [
    "#Definindo uma função que destaca a segmentação entre departamento e produtos\n",
    "\n",
    "def add_nodes(nodes, parent, child):\n",
    "    if parent not in nodes:\n",
    "        nodes[parent] = Node(parent)  \n",
    "    if child not in nodes:\n",
    "        nodes[child] = Node(child)\n",
    "    nodes[child].parent = nodes[parent]\n",
    "\n",
    "\n",
    "df = pd.DataFrame(columns=[\"Parent\",\"Child\"], data= df)\n",
    "nodes = {}  \n",
    "for parent, child in zip(df[\"Parent\"],df[\"Child\"]):\n",
    "    add_nodes(nodes, parent, child)\n",
    "\n",
    "roots = list(df[~df[\"Parent\"].isin(df[\"Child\"])][\"Parent\"].unique())\n",
    "for root in roots:  \n",
    "    for pre, _, node in RenderTree(nodes[root]):\n",
    "        print(\"%s%s\" % (pre, node.name))\n"
   ]
  },
  {
   "cell_type": "markdown",
   "metadata": {},
   "source": [
    "#### Produto e quantidade vendida"
   ]
  },
  {
   "cell_type": "markdown",
   "metadata": {},
   "source": [
    "##### Quantidade de produtos por departamento"
   ]
  },
  {
   "cell_type": "code",
   "execution_count": 10,
   "metadata": {},
   "outputs": [
    {
     "data": {
      "text/html": [
       "<div>\n",
       "<style scoped>\n",
       "    .dataframe tbody tr th:only-of-type {\n",
       "        vertical-align: middle;\n",
       "    }\n",
       "\n",
       "    .dataframe tbody tr th {\n",
       "        vertical-align: top;\n",
       "    }\n",
       "\n",
       "    .dataframe thead th {\n",
       "        text-align: right;\n",
       "    }\n",
       "</style>\n",
       "<table border=\"1\" class=\"dataframe\">\n",
       "  <thead>\n",
       "    <tr style=\"text-align: right;\">\n",
       "      <th></th>\n",
       "      <th>Quantidade</th>\n",
       "    </tr>\n",
       "    <tr>\n",
       "      <th>Departamento</th>\n",
       "      <th></th>\n",
       "    </tr>\n",
       "  </thead>\n",
       "  <tbody>\n",
       "    <tr>\n",
       "      <th>Clothing</th>\n",
       "      <td>63</td>\n",
       "    </tr>\n",
       "    <tr>\n",
       "      <th>Shoes</th>\n",
       "      <td>14</td>\n",
       "    </tr>\n",
       "    <tr>\n",
       "      <th>Total</th>\n",
       "      <td>77</td>\n",
       "    </tr>\n",
       "  </tbody>\n",
       "</table>\n",
       "</div>"
      ],
      "text/plain": [
       "              Quantidade\n",
       "Departamento            \n",
       "Clothing              63\n",
       "Shoes                 14\n",
       "Total                 77"
      ]
     },
     "execution_count": 10,
     "metadata": {},
     "output_type": "execute_result"
    }
   ],
   "source": [
    "produtos = data.groupby(['Departamento']).Produto.agg(Quantidade = 'nunique')\n",
    "produtos.loc['Total'] = produtos.sum()\n",
    "produtos"
   ]
  },
  {
   "cell_type": "markdown",
   "metadata": {},
   "source": [
    "O portfólio da companhia analisada contém 77 produtos, sendo 63 correspondentes ao departamento **Clothing** e 14 ao departamento **Shoes**."
   ]
  },
  {
   "cell_type": "markdown",
   "metadata": {},
   "source": [
    "##### Quantidade de produtos vendidos por ano e departmento"
   ]
  },
  {
   "cell_type": "code",
   "execution_count": 11,
   "metadata": {},
   "outputs": [
    {
     "data": {
      "text/html": [
       "<div>\n",
       "<style scoped>\n",
       "    .dataframe tbody tr th:only-of-type {\n",
       "        vertical-align: middle;\n",
       "    }\n",
       "\n",
       "    .dataframe tbody tr th {\n",
       "        vertical-align: top;\n",
       "    }\n",
       "\n",
       "    .dataframe thead th {\n",
       "        text-align: right;\n",
       "    }\n",
       "</style>\n",
       "<table border=\"1\" class=\"dataframe\">\n",
       "  <thead>\n",
       "    <tr style=\"text-align: right;\">\n",
       "      <th></th>\n",
       "      <th>Quantidade</th>\n",
       "    </tr>\n",
       "  </thead>\n",
       "  <tbody>\n",
       "    <tr>\n",
       "      <th>(2014, Clothing)</th>\n",
       "      <td>782</td>\n",
       "    </tr>\n",
       "    <tr>\n",
       "      <th>(2014, Shoes)</th>\n",
       "      <td>54</td>\n",
       "    </tr>\n",
       "    <tr>\n",
       "      <th>(2015, Clothing)</th>\n",
       "      <td>7142</td>\n",
       "    </tr>\n",
       "    <tr>\n",
       "      <th>(2015, Shoes)</th>\n",
       "      <td>1328</td>\n",
       "    </tr>\n",
       "    <tr>\n",
       "      <th>(2016, Clothing)</th>\n",
       "      <td>12149</td>\n",
       "    </tr>\n",
       "    <tr>\n",
       "      <th>(2016, Shoes)</th>\n",
       "      <td>2374</td>\n",
       "    </tr>\n",
       "    <tr>\n",
       "      <th>(2017, Clothing)</th>\n",
       "      <td>20118</td>\n",
       "    </tr>\n",
       "    <tr>\n",
       "      <th>(2017, Shoes)</th>\n",
       "      <td>4231</td>\n",
       "    </tr>\n",
       "    <tr>\n",
       "      <th>(2018, Clothing)</th>\n",
       "      <td>3384</td>\n",
       "    </tr>\n",
       "    <tr>\n",
       "      <th>(2018, Shoes)</th>\n",
       "      <td>495</td>\n",
       "    </tr>\n",
       "    <tr>\n",
       "      <th>Total</th>\n",
       "      <td>52057</td>\n",
       "    </tr>\n",
       "  </tbody>\n",
       "</table>\n",
       "</div>"
      ],
      "text/plain": [
       "                  Quantidade\n",
       "(2014, Clothing)         782\n",
       "(2014, Shoes)             54\n",
       "(2015, Clothing)        7142\n",
       "(2015, Shoes)           1328\n",
       "(2016, Clothing)       12149\n",
       "(2016, Shoes)           2374\n",
       "(2017, Clothing)       20118\n",
       "(2017, Shoes)           4231\n",
       "(2018, Clothing)        3384\n",
       "(2018, Shoes)            495\n",
       "Total                  52057"
      ]
     },
     "execution_count": 11,
     "metadata": {},
     "output_type": "execute_result"
    }
   ],
   "source": [
    "produtos = data.groupby(['Ano','Departamento']).Quantidade.agg(Quantidade = 'sum')\n",
    "produtos.loc['Total'] = produtos.sum()\n",
    "produtos"
   ]
  },
  {
   "cell_type": "markdown",
   "metadata": {},
   "source": [
    "Diante aos resultados observa-se que o departamento **Clothing** além de ter o maior número de produtos dentro da empresa também é responsável pela maior quantidade vendida de produtos em todos os anos. Destaque-se o ano de 2017 que obteve o melhor resultado de quantidade vendida para os dois departamentos.  "
   ]
  },
  {
   "cell_type": "markdown",
   "metadata": {},
   "source": [
    "##### Os 5 produtos mais vendidos por ano e suas respectivas quantidades"
   ]
  },
  {
   "cell_type": "code",
   "execution_count": 12,
   "metadata": {},
   "outputs": [
    {
     "data": {
      "text/html": [
       "<div>\n",
       "<style scoped>\n",
       "    .dataframe tbody tr th:only-of-type {\n",
       "        vertical-align: middle;\n",
       "    }\n",
       "\n",
       "    .dataframe tbody tr th {\n",
       "        vertical-align: top;\n",
       "    }\n",
       "\n",
       "    .dataframe thead th {\n",
       "        text-align: right;\n",
       "    }\n",
       "</style>\n",
       "<table border=\"1\" class=\"dataframe\">\n",
       "  <thead>\n",
       "    <tr style=\"text-align: right;\">\n",
       "      <th></th>\n",
       "      <th></th>\n",
       "      <th>Qtde</th>\n",
       "    </tr>\n",
       "    <tr>\n",
       "      <th>Ano</th>\n",
       "      <th>Produto</th>\n",
       "      <th></th>\n",
       "    </tr>\n",
       "  </thead>\n",
       "  <tbody>\n",
       "    <tr>\n",
       "      <th rowspan=\"5\" valign=\"top\">2018</th>\n",
       "      <th>Bow tie</th>\n",
       "      <td>234</td>\n",
       "    </tr>\n",
       "    <tr>\n",
       "      <th>Feiss Fleece Trousers</th>\n",
       "      <td>195</td>\n",
       "    </tr>\n",
       "    <tr>\n",
       "      <th>Rasta WCT</th>\n",
       "      <td>185</td>\n",
       "    </tr>\n",
       "    <tr>\n",
       "      <th>Squash Shorts</th>\n",
       "      <td>160</td>\n",
       "    </tr>\n",
       "    <tr>\n",
       "      <th>Ga-Ga Dress</th>\n",
       "      <td>150</td>\n",
       "    </tr>\n",
       "    <tr>\n",
       "      <th rowspan=\"5\" valign=\"top\">2017</th>\n",
       "      <th>Game Over T-Shirt</th>\n",
       "      <td>863</td>\n",
       "    </tr>\n",
       "    <tr>\n",
       "      <th>Samba Socker  Socks</th>\n",
       "      <td>764</td>\n",
       "    </tr>\n",
       "    <tr>\n",
       "      <th>Rasta WCT</th>\n",
       "      <td>715</td>\n",
       "    </tr>\n",
       "    <tr>\n",
       "      <th>Duck Trousers</th>\n",
       "      <td>655</td>\n",
       "    </tr>\n",
       "    <tr>\n",
       "      <th>Atles Lussekofta</th>\n",
       "      <td>639</td>\n",
       "    </tr>\n",
       "    <tr>\n",
       "      <th rowspan=\"5\" valign=\"top\">2016</th>\n",
       "      <th>Rossi Bermuda Shorts</th>\n",
       "      <td>589</td>\n",
       "    </tr>\n",
       "    <tr>\n",
       "      <th>Game Over T-Shirt</th>\n",
       "      <td>504</td>\n",
       "    </tr>\n",
       "    <tr>\n",
       "      <th>High Heels Shoes</th>\n",
       "      <td>490</td>\n",
       "    </tr>\n",
       "    <tr>\n",
       "      <th>Sheat Shoes</th>\n",
       "      <td>458</td>\n",
       "    </tr>\n",
       "    <tr>\n",
       "      <th>Feiss Fleece Trousers</th>\n",
       "      <td>404</td>\n",
       "    </tr>\n",
       "    <tr>\n",
       "      <th rowspan=\"5\" valign=\"top\">2015</th>\n",
       "      <th>Car Boots</th>\n",
       "      <td>334</td>\n",
       "    </tr>\n",
       "    <tr>\n",
       "      <th>Rossi Bermuda Shorts</th>\n",
       "      <td>279</td>\n",
       "    </tr>\n",
       "    <tr>\n",
       "      <th>High Heels Shoes</th>\n",
       "      <td>248</td>\n",
       "    </tr>\n",
       "    <tr>\n",
       "      <th>Okkaba Skin Jackets</th>\n",
       "      <td>243</td>\n",
       "    </tr>\n",
       "    <tr>\n",
       "      <th>Samba Socker  Socks</th>\n",
       "      <td>237</td>\n",
       "    </tr>\n",
       "    <tr>\n",
       "      <th rowspan=\"5\" valign=\"top\">2014</th>\n",
       "      <th>LA. Shorts</th>\n",
       "      <td>100</td>\n",
       "    </tr>\n",
       "    <tr>\n",
       "      <th>Wimbledon T-Shirt</th>\n",
       "      <td>70</td>\n",
       "    </tr>\n",
       "    <tr>\n",
       "      <th>Mehmet-Tröja</th>\n",
       "      <td>60</td>\n",
       "    </tr>\n",
       "    <tr>\n",
       "      <th>Sheat Shoes</th>\n",
       "      <td>55</td>\n",
       "    </tr>\n",
       "    <tr>\n",
       "      <th>Rasta WCT</th>\n",
       "      <td>45</td>\n",
       "    </tr>\n",
       "  </tbody>\n",
       "</table>\n",
       "</div>"
      ],
      "text/plain": [
       "                            Qtde\n",
       "Ano  Produto                    \n",
       "2018 Bow tie                 234\n",
       "     Feiss Fleece Trousers   195\n",
       "     Rasta WCT               185\n",
       "     Squash Shorts           160\n",
       "     Ga-Ga Dress             150\n",
       "2017 Game Over T-Shirt       863\n",
       "     Samba Socker  Socks     764\n",
       "     Rasta WCT               715\n",
       "     Duck Trousers           655\n",
       "     Atles Lussekofta        639\n",
       "2016 Rossi Bermuda Shorts    589\n",
       "     Game Over T-Shirt       504\n",
       "     High Heels Shoes        490\n",
       "     Sheat Shoes             458\n",
       "     Feiss Fleece Trousers   404\n",
       "2015 Car Boots               334\n",
       "     Rossi Bermuda Shorts    279\n",
       "     High Heels Shoes        248\n",
       "     Okkaba Skin Jackets     243\n",
       "     Samba Socker  Socks     237\n",
       "2014 LA. Shorts              100\n",
       "     Wimbledon T-Shirt        70\n",
       "     Mehmet-Tröja             60\n",
       "     Sheat Shoes              55\n",
       "     Rasta WCT                45"
      ]
     },
     "execution_count": 12,
     "metadata": {},
     "output_type": "execute_result"
    }
   ],
   "source": [
    "data.groupby(['Ano', 'Produto']).Quantidade.agg(Qtde = 'sum').sort_values(['Ano','Qtde'],  ascending=False).groupby(level=0).head(5)"
   ]
  },
  {
   "cell_type": "markdown",
   "metadata": {},
   "source": [
    "##### Os 5 produtos mais vendidos no departamento **Clothing** durante todo o periodo analisado"
   ]
  },
  {
   "cell_type": "code",
   "execution_count": 13,
   "metadata": {},
   "outputs": [
    {
     "data": {
      "text/html": [
       "<div>\n",
       "<style scoped>\n",
       "    .dataframe tbody tr th:only-of-type {\n",
       "        vertical-align: middle;\n",
       "    }\n",
       "\n",
       "    .dataframe tbody tr th {\n",
       "        vertical-align: top;\n",
       "    }\n",
       "\n",
       "    .dataframe thead th {\n",
       "        text-align: right;\n",
       "    }\n",
       "</style>\n",
       "<table border=\"1\" class=\"dataframe\">\n",
       "  <thead>\n",
       "    <tr style=\"text-align: right;\">\n",
       "      <th></th>\n",
       "      <th>Qtde</th>\n",
       "    </tr>\n",
       "    <tr>\n",
       "      <th>Produto</th>\n",
       "      <th></th>\n",
       "    </tr>\n",
       "  </thead>\n",
       "  <tbody>\n",
       "    <tr>\n",
       "      <th>Game Over T-Shirt</th>\n",
       "      <td>1583</td>\n",
       "    </tr>\n",
       "    <tr>\n",
       "      <th>Rasta WCT</th>\n",
       "      <td>1496</td>\n",
       "    </tr>\n",
       "    <tr>\n",
       "      <th>Rossi Bermuda Shorts</th>\n",
       "      <td>1397</td>\n",
       "    </tr>\n",
       "    <tr>\n",
       "      <th>Bow tie</th>\n",
       "      <td>1315</td>\n",
       "    </tr>\n",
       "    <tr>\n",
       "      <th>Wimbledon T-Shirt</th>\n",
       "      <td>1181</td>\n",
       "    </tr>\n",
       "  </tbody>\n",
       "</table>\n",
       "</div>"
      ],
      "text/plain": [
       "                      Qtde\n",
       "Produto                   \n",
       "Game Over T-Shirt     1583\n",
       "Rasta WCT             1496\n",
       "Rossi Bermuda Shorts  1397\n",
       "Bow tie               1315\n",
       "Wimbledon T-Shirt     1181"
      ]
     },
     "execution_count": 13,
     "metadata": {},
     "output_type": "execute_result"
    }
   ],
   "source": [
    "data.query('Departamento == \"Clothing\"').groupby('Produto').Quantidade.agg(Qtde = 'sum').sort_values('Qtde',  ascending=False).head()"
   ]
  },
  {
   "cell_type": "markdown",
   "metadata": {},
   "source": [
    "##### Os 5 produtos que mais vendem no departamento **Shoes** durante todo o periodo analisado"
   ]
  },
  {
   "cell_type": "code",
   "execution_count": 14,
   "metadata": {},
   "outputs": [
    {
     "data": {
      "text/html": [
       "<div>\n",
       "<style scoped>\n",
       "    .dataframe tbody tr th:only-of-type {\n",
       "        vertical-align: middle;\n",
       "    }\n",
       "\n",
       "    .dataframe tbody tr th {\n",
       "        vertical-align: top;\n",
       "    }\n",
       "\n",
       "    .dataframe thead th {\n",
       "        text-align: right;\n",
       "    }\n",
       "</style>\n",
       "<table border=\"1\" class=\"dataframe\">\n",
       "  <thead>\n",
       "    <tr style=\"text-align: right;\">\n",
       "      <th></th>\n",
       "      <th>Qtde</th>\n",
       "    </tr>\n",
       "    <tr>\n",
       "      <th>Produto</th>\n",
       "      <th></th>\n",
       "    </tr>\n",
       "  </thead>\n",
       "  <tbody>\n",
       "    <tr>\n",
       "      <th>High Heels Shoes</th>\n",
       "      <td>1263</td>\n",
       "    </tr>\n",
       "    <tr>\n",
       "      <th>TieBreak Tennis shoes</th>\n",
       "      <td>978</td>\n",
       "    </tr>\n",
       "    <tr>\n",
       "      <th>Snake Boots</th>\n",
       "      <td>889</td>\n",
       "    </tr>\n",
       "    <tr>\n",
       "      <th>WFS shoes</th>\n",
       "      <td>753</td>\n",
       "    </tr>\n",
       "    <tr>\n",
       "      <th>Davenport</th>\n",
       "      <td>746</td>\n",
       "    </tr>\n",
       "  </tbody>\n",
       "</table>\n",
       "</div>"
      ],
      "text/plain": [
       "                       Qtde\n",
       "Produto                    \n",
       "High Heels Shoes       1263\n",
       "TieBreak Tennis shoes   978\n",
       "Snake Boots             889\n",
       "WFS shoes               753\n",
       "Davenport               746"
      ]
     },
     "execution_count": 14,
     "metadata": {},
     "output_type": "execute_result"
    }
   ],
   "source": [
    "data.query('Departamento == \"Shoes\"').groupby('Produto').Quantidade.agg(Qtde = 'sum').sort_values('Qtde', ascending=False).head()"
   ]
  },
  {
   "cell_type": "markdown",
   "metadata": {},
   "source": [
    "##### O produto que mais vendeu em cada ano no departamento **Shoes**"
   ]
  },
  {
   "cell_type": "code",
   "execution_count": 16,
   "metadata": {},
   "outputs": [
    {
     "data": {
      "text/html": [
       "<div>\n",
       "<style scoped>\n",
       "    .dataframe tbody tr th:only-of-type {\n",
       "        vertical-align: middle;\n",
       "    }\n",
       "\n",
       "    .dataframe tbody tr th {\n",
       "        vertical-align: top;\n",
       "    }\n",
       "\n",
       "    .dataframe thead th {\n",
       "        text-align: right;\n",
       "    }\n",
       "</style>\n",
       "<table border=\"1\" class=\"dataframe\">\n",
       "  <thead>\n",
       "    <tr style=\"text-align: right;\">\n",
       "      <th></th>\n",
       "      <th></th>\n",
       "      <th>Qtde</th>\n",
       "    </tr>\n",
       "    <tr>\n",
       "      <th>Ano</th>\n",
       "      <th>Produto</th>\n",
       "      <th></th>\n",
       "    </tr>\n",
       "  </thead>\n",
       "  <tbody>\n",
       "    <tr>\n",
       "      <th>2018</th>\n",
       "      <th>Balett Shoes</th>\n",
       "      <td>113</td>\n",
       "    </tr>\n",
       "    <tr>\n",
       "      <th>2017</th>\n",
       "      <th>Snake Boots</th>\n",
       "      <td>510</td>\n",
       "    </tr>\n",
       "    <tr>\n",
       "      <th>2016</th>\n",
       "      <th>High Heels Shoes</th>\n",
       "      <td>490</td>\n",
       "    </tr>\n",
       "    <tr>\n",
       "      <th>2015</th>\n",
       "      <th>High Heels Shoes</th>\n",
       "      <td>248</td>\n",
       "    </tr>\n",
       "    <tr>\n",
       "      <th>2014</th>\n",
       "      <th>DSW</th>\n",
       "      <td>40</td>\n",
       "    </tr>\n",
       "  </tbody>\n",
       "</table>\n",
       "</div>"
      ],
      "text/plain": [
       "                       Qtde\n",
       "Ano  Produto               \n",
       "2018 Balett Shoes       113\n",
       "2017 Snake Boots        510\n",
       "2016 High Heels Shoes   490\n",
       "2015 High Heels Shoes   248\n",
       "2014 DSW                 40"
      ]
     },
     "execution_count": 16,
     "metadata": {},
     "output_type": "execute_result"
    }
   ],
   "source": [
    "data.query('Departamento == \"Shoes\"').groupby(['Ano', 'Produto']).Quantidade.agg(Qtde = 'sum').sort_values(['Ano','Qtde'], ascending=False).groupby(level=0).head(1)"
   ]
  },
  {
   "cell_type": "markdown",
   "metadata": {},
   "source": [
    "No departamento **Shoes** o produto destaque corresponde ao **High Heels Shoes** cujo qual foi mais vendido em dois anos: 2015 e 2016. "
   ]
  },
  {
   "cell_type": "markdown",
   "metadata": {},
   "source": [
    "##### O produto que mais vendeu em cada ano no departamento **Clothing**"
   ]
  },
  {
   "cell_type": "code",
   "execution_count": 17,
   "metadata": {},
   "outputs": [
    {
     "data": {
      "text/html": [
       "<div>\n",
       "<style scoped>\n",
       "    .dataframe tbody tr th:only-of-type {\n",
       "        vertical-align: middle;\n",
       "    }\n",
       "\n",
       "    .dataframe tbody tr th {\n",
       "        vertical-align: top;\n",
       "    }\n",
       "\n",
       "    .dataframe thead th {\n",
       "        text-align: right;\n",
       "    }\n",
       "</style>\n",
       "<table border=\"1\" class=\"dataframe\">\n",
       "  <thead>\n",
       "    <tr style=\"text-align: right;\">\n",
       "      <th></th>\n",
       "      <th></th>\n",
       "      <th>Qtde</th>\n",
       "    </tr>\n",
       "    <tr>\n",
       "      <th>Ano</th>\n",
       "      <th>Produto</th>\n",
       "      <th></th>\n",
       "    </tr>\n",
       "  </thead>\n",
       "  <tbody>\n",
       "    <tr>\n",
       "      <th>2018</th>\n",
       "      <th>Bow tie</th>\n",
       "      <td>234</td>\n",
       "    </tr>\n",
       "    <tr>\n",
       "      <th>2017</th>\n",
       "      <th>Game Over T-Shirt</th>\n",
       "      <td>863</td>\n",
       "    </tr>\n",
       "    <tr>\n",
       "      <th>2016</th>\n",
       "      <th>Rossi Bermuda Shorts</th>\n",
       "      <td>589</td>\n",
       "    </tr>\n",
       "    <tr>\n",
       "      <th>2015</th>\n",
       "      <th>Car Boots</th>\n",
       "      <td>334</td>\n",
       "    </tr>\n",
       "    <tr>\n",
       "      <th>2014</th>\n",
       "      <th>LA. Shorts</th>\n",
       "      <td>100</td>\n",
       "    </tr>\n",
       "  </tbody>\n",
       "</table>\n",
       "</div>"
      ],
      "text/plain": [
       "                           Qtde\n",
       "Ano  Produto                   \n",
       "2018 Bow tie                234\n",
       "2017 Game Over T-Shirt      863\n",
       "2016 Rossi Bermuda Shorts   589\n",
       "2015 Car Boots              334\n",
       "2014 LA. Shorts             100"
      ]
     },
     "execution_count": 17,
     "metadata": {},
     "output_type": "execute_result"
    }
   ],
   "source": [
    "data.query('Departamento == \"Clothing\"').groupby(['Ano', 'Produto']).Quantidade.agg(Qtde = 'sum').sort_values(['Ano','Qtde'], ascending=False).groupby(level=0).head(1)"
   ]
  },
  {
   "cell_type": "markdown",
   "metadata": {},
   "source": [
    "Não foi possível um produto destaque para o departmento **Clothing** tendo em vista que em todos os anos um produto diferente prevaleceu em 1º lugar de vendas."
   ]
  },
  {
   "cell_type": "markdown",
   "metadata": {},
   "source": [
    "##### Quantidade de produtos vendidos por escritório em cada ano "
   ]
  },
  {
   "cell_type": "code",
   "execution_count": 18,
   "metadata": {},
   "outputs": [
    {
     "data": {
      "text/html": [
       "<div>\n",
       "<style scoped>\n",
       "    .dataframe tbody tr th:only-of-type {\n",
       "        vertical-align: middle;\n",
       "    }\n",
       "\n",
       "    .dataframe tbody tr th {\n",
       "        vertical-align: top;\n",
       "    }\n",
       "\n",
       "    .dataframe thead th {\n",
       "        text-align: right;\n",
       "    }\n",
       "</style>\n",
       "<table border=\"1\" class=\"dataframe\">\n",
       "  <thead>\n",
       "    <tr style=\"text-align: right;\">\n",
       "      <th></th>\n",
       "      <th></th>\n",
       "      <th>Qtde</th>\n",
       "    </tr>\n",
       "    <tr>\n",
       "      <th>Ano</th>\n",
       "      <th>EscritorioLocalizacao</th>\n",
       "      <th></th>\n",
       "    </tr>\n",
       "  </thead>\n",
       "  <tbody>\n",
       "    <tr>\n",
       "      <th rowspan=\"5\" valign=\"top\">2018</th>\n",
       "      <th>Stockholm</th>\n",
       "      <td>1575</td>\n",
       "    </tr>\n",
       "    <tr>\n",
       "      <th>Lund</th>\n",
       "      <td>1091</td>\n",
       "    </tr>\n",
       "    <tr>\n",
       "      <th>Paris</th>\n",
       "      <td>559</td>\n",
       "    </tr>\n",
       "    <tr>\n",
       "      <th>Seattle</th>\n",
       "      <td>531</td>\n",
       "    </tr>\n",
       "    <tr>\n",
       "      <th>Nice</th>\n",
       "      <td>123</td>\n",
       "    </tr>\n",
       "    <tr>\n",
       "      <th rowspan=\"5\" valign=\"top\">2017</th>\n",
       "      <th>Stockholm</th>\n",
       "      <td>9155</td>\n",
       "    </tr>\n",
       "    <tr>\n",
       "      <th>Lund</th>\n",
       "      <td>7520</td>\n",
       "    </tr>\n",
       "    <tr>\n",
       "      <th>Seattle</th>\n",
       "      <td>4230</td>\n",
       "    </tr>\n",
       "    <tr>\n",
       "      <th>Paris</th>\n",
       "      <td>2301</td>\n",
       "    </tr>\n",
       "    <tr>\n",
       "      <th>Nice</th>\n",
       "      <td>1143</td>\n",
       "    </tr>\n",
       "    <tr>\n",
       "      <th rowspan=\"5\" valign=\"top\">2016</th>\n",
       "      <th>Stockholm</th>\n",
       "      <td>5437</td>\n",
       "    </tr>\n",
       "    <tr>\n",
       "      <th>Lund</th>\n",
       "      <td>3913</td>\n",
       "    </tr>\n",
       "    <tr>\n",
       "      <th>Seattle</th>\n",
       "      <td>2549</td>\n",
       "    </tr>\n",
       "    <tr>\n",
       "      <th>Paris</th>\n",
       "      <td>1597</td>\n",
       "    </tr>\n",
       "    <tr>\n",
       "      <th>Nice</th>\n",
       "      <td>1027</td>\n",
       "    </tr>\n",
       "    <tr>\n",
       "      <th rowspan=\"5\" valign=\"top\">2015</th>\n",
       "      <th>Stockholm</th>\n",
       "      <td>3973</td>\n",
       "    </tr>\n",
       "    <tr>\n",
       "      <th>Seattle</th>\n",
       "      <td>1731</td>\n",
       "    </tr>\n",
       "    <tr>\n",
       "      <th>Lund</th>\n",
       "      <td>1570</td>\n",
       "    </tr>\n",
       "    <tr>\n",
       "      <th>Nice</th>\n",
       "      <td>646</td>\n",
       "    </tr>\n",
       "    <tr>\n",
       "      <th>Paris</th>\n",
       "      <td>550</td>\n",
       "    </tr>\n",
       "    <tr>\n",
       "      <th rowspan=\"3\" valign=\"top\">2014</th>\n",
       "      <th>Stockholm</th>\n",
       "      <td>464</td>\n",
       "    </tr>\n",
       "    <tr>\n",
       "      <th>Lund</th>\n",
       "      <td>322</td>\n",
       "    </tr>\n",
       "    <tr>\n",
       "      <th>Nice</th>\n",
       "      <td>50</td>\n",
       "    </tr>\n",
       "  </tbody>\n",
       "</table>\n",
       "</div>"
      ],
      "text/plain": [
       "                            Qtde\n",
       "Ano  EscritorioLocalizacao      \n",
       "2018 Stockholm              1575\n",
       "     Lund                   1091\n",
       "     Paris                   559\n",
       "     Seattle                 531\n",
       "     Nice                    123\n",
       "2017 Stockholm              9155\n",
       "     Lund                   7520\n",
       "     Seattle                4230\n",
       "     Paris                  2301\n",
       "     Nice                   1143\n",
       "2016 Stockholm              5437\n",
       "     Lund                   3913\n",
       "     Seattle                2549\n",
       "     Paris                  1597\n",
       "     Nice                   1027\n",
       "2015 Stockholm              3973\n",
       "     Seattle                1731\n",
       "     Lund                   1570\n",
       "     Nice                    646\n",
       "     Paris                   550\n",
       "2014 Stockholm               464\n",
       "     Lund                    322\n",
       "     Nice                     50"
      ]
     },
     "execution_count": 18,
     "metadata": {},
     "output_type": "execute_result"
    }
   ],
   "source": [
    "data.groupby(['Ano', 'EscritorioLocalizacao']).Quantidade.agg(Qtde = 'sum').sort_values(['Ano','Qtde'],  ascending=False).groupby(level=0).head(5)"
   ]
  },
  {
   "cell_type": "markdown",
   "metadata": {},
   "source": [
    "A partir desses dados podemos visualizar a expansão de dois escritórios em lugares diferentes (Seattle e Paris) de 2014 para 2015. Além disso, visualiza-se que o escritório em Stockholm é o responsável pelo maior número de vendas independentemente do ano analisado.  "
   ]
  },
  {
   "cell_type": "markdown",
   "metadata": {},
   "source": [
    "##### O produto mais vendido por escritório e a sua respectividade quantidade "
   ]
  },
  {
   "cell_type": "code",
   "execution_count": 19,
   "metadata": {},
   "outputs": [
    {
     "data": {
      "text/html": [
       "<div>\n",
       "<style scoped>\n",
       "    .dataframe tbody tr th:only-of-type {\n",
       "        vertical-align: middle;\n",
       "    }\n",
       "\n",
       "    .dataframe tbody tr th {\n",
       "        vertical-align: top;\n",
       "    }\n",
       "\n",
       "    .dataframe thead th {\n",
       "        text-align: right;\n",
       "    }\n",
       "</style>\n",
       "<table border=\"1\" class=\"dataframe\">\n",
       "  <thead>\n",
       "    <tr style=\"text-align: right;\">\n",
       "      <th></th>\n",
       "      <th></th>\n",
       "      <th></th>\n",
       "      <th>Qtde</th>\n",
       "    </tr>\n",
       "    <tr>\n",
       "      <th>Ano</th>\n",
       "      <th>EscritorioLocalizacao</th>\n",
       "      <th>Produto</th>\n",
       "      <th></th>\n",
       "    </tr>\n",
       "  </thead>\n",
       "  <tbody>\n",
       "    <tr>\n",
       "      <th rowspan=\"5\" valign=\"top\">2018</th>\n",
       "      <th>Stockholm</th>\n",
       "      <th>Aino Shoes</th>\n",
       "      <td>104</td>\n",
       "    </tr>\n",
       "    <tr>\n",
       "      <th>Seattle</th>\n",
       "      <th>Aino Shoes</th>\n",
       "      <td>7</td>\n",
       "    </tr>\n",
       "    <tr>\n",
       "      <th>Paris</th>\n",
       "      <th>Baby Dark Lounge Suit</th>\n",
       "      <td>10</td>\n",
       "    </tr>\n",
       "    <tr>\n",
       "      <th>Nice</th>\n",
       "      <th>Bow tie</th>\n",
       "      <td>10</td>\n",
       "    </tr>\n",
       "    <tr>\n",
       "      <th>Lund</th>\n",
       "      <th>Atles Lussekofta</th>\n",
       "      <td>20</td>\n",
       "    </tr>\n",
       "    <tr>\n",
       "      <th rowspan=\"5\" valign=\"top\">2017</th>\n",
       "      <th>Stockholm</th>\n",
       "      <th>Adihash Running Shoe</th>\n",
       "      <td>71</td>\n",
       "    </tr>\n",
       "    <tr>\n",
       "      <th>Seattle</th>\n",
       "      <th>Adihash Running Shoe</th>\n",
       "      <td>20</td>\n",
       "    </tr>\n",
       "    <tr>\n",
       "      <th>Paris</th>\n",
       "      <th>Adihash Running Shoe</th>\n",
       "      <td>44</td>\n",
       "    </tr>\n",
       "    <tr>\n",
       "      <th>Nice</th>\n",
       "      <th>Aino Shoes</th>\n",
       "      <td>42</td>\n",
       "    </tr>\n",
       "    <tr>\n",
       "      <th>Lund</th>\n",
       "      <th>Adihash Running Shoe</th>\n",
       "      <td>142</td>\n",
       "    </tr>\n",
       "    <tr>\n",
       "      <th rowspan=\"5\" valign=\"top\">2016</th>\n",
       "      <th>Stockholm</th>\n",
       "      <th>Adihash Running Shoe</th>\n",
       "      <td>30</td>\n",
       "    </tr>\n",
       "    <tr>\n",
       "      <th>Seattle</th>\n",
       "      <th>Aino Shoes</th>\n",
       "      <td>10</td>\n",
       "    </tr>\n",
       "    <tr>\n",
       "      <th>Paris</th>\n",
       "      <th>Adihash Running Shoe</th>\n",
       "      <td>20</td>\n",
       "    </tr>\n",
       "    <tr>\n",
       "      <th>Nice</th>\n",
       "      <th>Aino Shoes</th>\n",
       "      <td>13</td>\n",
       "    </tr>\n",
       "    <tr>\n",
       "      <th>Lund</th>\n",
       "      <th>Adihash Running Shoe</th>\n",
       "      <td>136</td>\n",
       "    </tr>\n",
       "    <tr>\n",
       "      <th rowspan=\"5\" valign=\"top\">2015</th>\n",
       "      <th>Stockholm</th>\n",
       "      <th>Adihash Running Shoe</th>\n",
       "      <td>115</td>\n",
       "    </tr>\n",
       "    <tr>\n",
       "      <th>Seattle</th>\n",
       "      <th>Adihash Running Shoe</th>\n",
       "      <td>25</td>\n",
       "    </tr>\n",
       "    <tr>\n",
       "      <th>Paris</th>\n",
       "      <th>Conserve Shoes</th>\n",
       "      <td>10</td>\n",
       "    </tr>\n",
       "    <tr>\n",
       "      <th>Nice</th>\n",
       "      <th>Balett Shoes</th>\n",
       "      <td>40</td>\n",
       "    </tr>\n",
       "    <tr>\n",
       "      <th>Lund</th>\n",
       "      <th>Aino Shoes</th>\n",
       "      <td>28</td>\n",
       "    </tr>\n",
       "    <tr>\n",
       "      <th rowspan=\"3\" valign=\"top\">2014</th>\n",
       "      <th>Stockholm</th>\n",
       "      <th>Aino Shoes</th>\n",
       "      <td>20</td>\n",
       "    </tr>\n",
       "    <tr>\n",
       "      <th>Nice</th>\n",
       "      <th>Cap</th>\n",
       "      <td>20</td>\n",
       "    </tr>\n",
       "    <tr>\n",
       "      <th>Lund</th>\n",
       "      <th>Bike Helmet</th>\n",
       "      <td>24</td>\n",
       "    </tr>\n",
       "  </tbody>\n",
       "</table>\n",
       "</div>"
      ],
      "text/plain": [
       "                                                  Qtde\n",
       "Ano  EscritorioLocalizacao Produto                    \n",
       "2018 Stockholm             Aino Shoes              104\n",
       "     Seattle               Aino Shoes                7\n",
       "     Paris                 Baby Dark Lounge Suit    10\n",
       "     Nice                  Bow tie                  10\n",
       "     Lund                  Atles Lussekofta         20\n",
       "2017 Stockholm             Adihash Running Shoe     71\n",
       "     Seattle               Adihash Running Shoe     20\n",
       "     Paris                 Adihash Running Shoe     44\n",
       "     Nice                  Aino Shoes               42\n",
       "     Lund                  Adihash Running Shoe    142\n",
       "2016 Stockholm             Adihash Running Shoe     30\n",
       "     Seattle               Aino Shoes               10\n",
       "     Paris                 Adihash Running Shoe     20\n",
       "     Nice                  Aino Shoes               13\n",
       "     Lund                  Adihash Running Shoe    136\n",
       "2015 Stockholm             Adihash Running Shoe    115\n",
       "     Seattle               Adihash Running Shoe     25\n",
       "     Paris                 Conserve Shoes           10\n",
       "     Nice                  Balett Shoes             40\n",
       "     Lund                  Aino Shoes               28\n",
       "2014 Stockholm             Aino Shoes               20\n",
       "     Nice                  Cap                      20\n",
       "     Lund                  Bike Helmet              24"
      ]
     },
     "execution_count": 19,
     "metadata": {},
     "output_type": "execute_result"
    }
   ],
   "source": [
    "data.groupby(['Ano', 'EscritorioLocalizacao', 'Produto']).Quantidade.agg(Qtde = 'sum').sort_values(['Ano','EscritorioLocalizacao'], ascending=False).groupby(level=[0,1]).head(1)"
   ]
  },
  {
   "cell_type": "markdown",
   "metadata": {},
   "source": [
    "#### Produtos e os resultados financeiros"
   ]
  },
  {
   "cell_type": "markdown",
   "metadata": {},
   "source": [
    "##### O produto que gerou o maior faturamento em cada ano, o respectivo valor e a proporção em relação ao faturamento total"
   ]
  },
  {
   "cell_type": "code",
   "execution_count": 20,
   "metadata": {},
   "outputs": [],
   "source": [
    "#Criando a variável Faturamento\n",
    "data['Faturamento'] = data[\"Valor\"] * data[\"Quantidade\"]"
   ]
  },
  {
   "cell_type": "code",
   "execution_count": 21,
   "metadata": {},
   "outputs": [
    {
     "data": {
      "text/html": [
       "<div>\n",
       "<style scoped>\n",
       "    .dataframe tbody tr th:only-of-type {\n",
       "        vertical-align: middle;\n",
       "    }\n",
       "\n",
       "    .dataframe tbody tr th {\n",
       "        vertical-align: top;\n",
       "    }\n",
       "\n",
       "    .dataframe thead th {\n",
       "        text-align: right;\n",
       "    }\n",
       "</style>\n",
       "<table border=\"1\" class=\"dataframe\">\n",
       "  <thead>\n",
       "    <tr style=\"text-align: right;\">\n",
       "      <th></th>\n",
       "      <th></th>\n",
       "      <th>Faturamento</th>\n",
       "      <th>%</th>\n",
       "    </tr>\n",
       "    <tr>\n",
       "      <th>Ano</th>\n",
       "      <th>Produto</th>\n",
       "      <th></th>\n",
       "      <th></th>\n",
       "    </tr>\n",
       "  </thead>\n",
       "  <tbody>\n",
       "    <tr>\n",
       "      <th>2018</th>\n",
       "      <th>Minnki Pälsii</th>\n",
       "      <td>2138635.54</td>\n",
       "      <td>12.430174</td>\n",
       "    </tr>\n",
       "    <tr>\n",
       "      <th>2017</th>\n",
       "      <th>Minnki Pälsii</th>\n",
       "      <td>8355809.50</td>\n",
       "      <td>48.565622</td>\n",
       "    </tr>\n",
       "    <tr>\n",
       "      <th>2016</th>\n",
       "      <th>Minnki Pälsii</th>\n",
       "      <td>6622814.48</td>\n",
       "      <td>38.493111</td>\n",
       "    </tr>\n",
       "    <tr>\n",
       "      <th>2015</th>\n",
       "      <th>Okkaba Skin Jackets</th>\n",
       "      <td>1446044.54</td>\n",
       "      <td>66.661924</td>\n",
       "    </tr>\n",
       "    <tr>\n",
       "      <th>2014</th>\n",
       "      <th>Okkaba Skin Jackets</th>\n",
       "      <td>73065.68</td>\n",
       "      <td>3.368291</td>\n",
       "    </tr>\n",
       "  </tbody>\n",
       "</table>\n",
       "</div>"
      ],
      "text/plain": [
       "                          Faturamento          %\n",
       "Ano  Produto                                    \n",
       "2018 Minnki Pälsii         2138635.54  12.430174\n",
       "2017 Minnki Pälsii         8355809.50  48.565622\n",
       "2016 Minnki Pälsii         6622814.48  38.493111\n",
       "2015 Okkaba Skin Jackets   1446044.54  66.661924\n",
       "2014 Okkaba Skin Jackets     73065.68   3.368291"
      ]
     },
     "execution_count": 21,
     "metadata": {},
     "output_type": "execute_result"
    }
   ],
   "source": [
    "df_maiores = data.groupby(['Ano','Produto']).Faturamento.agg(Faturamento = 'sum')\n",
    "df_maiores ['%'] = 100 * df_maiores['Faturamento'] / df_maiores.groupby('Produto')['Faturamento'].transform('sum')\n",
    "df_maiores.sort_values(['Ano', 'Faturamento'],ascending=False).groupby('Ano').head(1)"
   ]
  },
  {
   "cell_type": "markdown",
   "metadata": {},
   "source": [
    "Observamos aqui que apesar do produto **Minnki Pälsii** não aparecer sempre como o produto com a maior quantidade vendida, tem-se o resultado que o mesmo foi o responsável pelo maior faturamento entre 2016 a 2017. Outro destaque é em relação ao produto **Okkaba Skin Jackets** que especialmente em 2015 representou 66,66% do faturamento total. "
   ]
  },
  {
   "cell_type": "markdown",
   "metadata": {},
   "source": [
    "##### Conhecendo a margem bruta por produto em cada ano e o seu respectivo valor "
   ]
  },
  {
   "cell_type": "code",
   "execution_count": 41,
   "metadata": {},
   "outputs": [],
   "source": [
    "#Variável lucro bruto\n",
    "data[\"LucroBruto\"] = data[\"Valor\"] - data[\"Custo\"]\n",
    "\n",
    "#Variável margem de lucro bruto\n",
    "data['Margem Bruta'] = (data[\"LucroBruto\"]/data[\"Valor\"])*100"
   ]
  },
  {
   "cell_type": "markdown",
   "metadata": {},
   "source": [
    "##### Descrição da margem bruta dos produtos"
   ]
  },
  {
   "cell_type": "code",
   "execution_count": 42,
   "metadata": {},
   "outputs": [
    {
     "data": {
      "text/plain": [
       "count    2172.000000\n",
       "mean       19.187783\n",
       "std         6.809344\n",
       "min         2.424682\n",
       "25%        13.600000\n",
       "50%        19.000000\n",
       "75%        23.304348\n",
       "max        35.211621\n",
       "Name: Margem Bruta, dtype: float64"
      ]
     },
     "execution_count": 42,
     "metadata": {},
     "output_type": "execute_result"
    }
   ],
   "source": [
    "data['Margem Bruta'].describe()"
   ]
  },
  {
   "cell_type": "markdown",
   "metadata": {},
   "source": [
    "##### Produtos com maior margem bruta por ano "
   ]
  },
  {
   "cell_type": "code",
   "execution_count": 18,
   "metadata": {},
   "outputs": [
    {
     "data": {
      "text/html": [
       "<div>\n",
       "<style scoped>\n",
       "    .dataframe tbody tr th:only-of-type {\n",
       "        vertical-align: middle;\n",
       "    }\n",
       "\n",
       "    .dataframe tbody tr th {\n",
       "        vertical-align: top;\n",
       "    }\n",
       "\n",
       "    .dataframe thead th {\n",
       "        text-align: right;\n",
       "    }\n",
       "</style>\n",
       "<table border=\"1\" class=\"dataframe\">\n",
       "  <thead>\n",
       "    <tr style=\"text-align: right;\">\n",
       "      <th></th>\n",
       "      <th>Ano</th>\n",
       "      <th>Produto</th>\n",
       "      <th>Margem Bruta</th>\n",
       "    </tr>\n",
       "  </thead>\n",
       "  <tbody>\n",
       "    <tr>\n",
       "      <th>1017</th>\n",
       "      <td>2017</td>\n",
       "      <td>Rodbye Troje</td>\n",
       "      <td>35.211621</td>\n",
       "    </tr>\n",
       "    <tr>\n",
       "      <th>421</th>\n",
       "      <td>2016</td>\n",
       "      <td>Squash Shorts</td>\n",
       "      <td>35.204397</td>\n",
       "    </tr>\n",
       "    <tr>\n",
       "      <th>678</th>\n",
       "      <td>2018</td>\n",
       "      <td>Snake Boots</td>\n",
       "      <td>35.200080</td>\n",
       "    </tr>\n",
       "    <tr>\n",
       "      <th>794</th>\n",
       "      <td>2015</td>\n",
       "      <td>Basket Vest</td>\n",
       "      <td>33.762641</td>\n",
       "    </tr>\n",
       "    <tr>\n",
       "      <th>122</th>\n",
       "      <td>2014</td>\n",
       "      <td>Rasta WCT</td>\n",
       "      <td>30.881007</td>\n",
       "    </tr>\n",
       "  </tbody>\n",
       "</table>\n",
       "</div>"
      ],
      "text/plain": [
       "       Ano        Produto  Margem Bruta\n",
       "1017  2017   Rodbye Troje     35.211621\n",
       "421   2016  Squash Shorts     35.204397\n",
       "678   2018    Snake Boots     35.200080\n",
       "794   2015    Basket Vest     33.762641\n",
       "122   2014      Rasta WCT     30.881007"
      ]
     },
     "execution_count": 18,
     "metadata": {},
     "output_type": "execute_result"
    }
   ],
   "source": [
    "df = data[[\"Ano\",\"Produto\", \"Margem Bruta\"]]\n",
    "df.sort_values(['Margem Bruta', 'Ano'],ascending=False).groupby('Ano').head(1)"
   ]
  },
  {
   "cell_type": "markdown",
   "metadata": {},
   "source": [
    "Aqui visualizamos que os produtos com maiores margens brutas de lucro não são aqueles que tiveram maior parte no faturamento da empresa. "
   ]
  },
  {
   "cell_type": "markdown",
   "metadata": {},
   "source": [
    "#### Conclusões"
   ]
  },
  {
   "cell_type": "markdown",
   "metadata": {},
   "source": [
    "Através dessa análise estatística descritiva, é possível ter alguns insights a respeito do perfil de vendas dos produtos da companhia. Essa análise pode ser útil para que os stakeholders possam trabalhar em estratégias e em tomadas de decisão melhor balizadas no desempenho histórico dos produtos de acordo com o departamento e a localidade.\n",
    "\n",
    "Por exemplo, uma estratégia que aumente a quantidade de vendas dos produtos que oferecem maior margem bruta tem o potencial de melhorar o resultado anual da companhia, uma vez que esses produtos representam relativamente pouco, quando levamos em consideração os produtos mais vendidos. Em outro exemplo, observamos que o produto Minnki Pälsii representa o maior faturamento da empresa por dois anos, embora não tenha sido o produto mais vendido em nenhum desses anos. Com base nisso, a companhia pode rever a sua política de preços: caso se trate de um produto com demanda mais inelástica, um aumento marginal nos preços desse produto pode levar a uma maior margem (visto que se trata de um produto mais caro, pois gera o maior faturamento sem ser o maior vendedor em quantidade); ou, caso seja um produto com demanda mais elástica, uma queda marginal nos preços pode aumentar a quantidade de vendas, e provocar com isso um aumento ainda maior na receita desse produto.\n",
    "\n",
    "As vantagens de se extrair informações dos dados são grandes, com inúmeros benefícios. Nesse caso, foi feita uma análise ampla e abrangente, para se ter uma visão geral do perfil de vendas dos produtos da companhia. Em um segundo passo, é possível realizar uma análise mais segmentada, mais minuciosa ou que objetiva estudar mais a fundo algum dos ramos de negócios da companhia. A partir do feedback dos tomadores de decisão a respeito desse relatório, um estudo feito sob medida será capaz de responder perguntas objetivas e melhorar a performance financeira e a capacidade de geração de valor da companhia.\n"
   ]
  }
 ],
 "metadata": {
  "interpreter": {
   "hash": "076549bc33e34b4055787afb540d21ceb4fce9fcaf49076d535ca95bca4d0838"
  },
  "kernelspec": {
   "display_name": "Python 3.9.11 64-bit (windows store)",
   "language": "python",
   "name": "python3"
  },
  "language_info": {
   "codemirror_mode": {
    "name": "ipython",
    "version": 3
   },
   "file_extension": ".py",
   "mimetype": "text/x-python",
   "name": "python",
   "nbconvert_exporter": "python",
   "pygments_lexer": "ipython3",
   "version": "3.9.11"
  },
  "orig_nbformat": 4
 },
 "nbformat": 4,
 "nbformat_minor": 2
}
